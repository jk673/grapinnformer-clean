{
 "cells": [
  {
   "cell_type": "code",
   "execution_count": 1,
   "id": "c82d9c31",
   "metadata": {},
   "outputs": [
    {
     "name": "stdout",
     "output_type": "stream",
     "text": [
      "pyg-lib ok; 0.4.0+pt25cu118\n",
      "Torch: 2.5.1\n",
      "CUDA: 11.8\n",
      "PyVista: 0.46.1\n",
      "PyG: 2.6.1\n",
      "py  : 3.10.18\n"
     ]
    }
   ],
   "source": [
    "# 1. Environment & dependencies\n",
    "import gc\n",
    "import glob\n",
    "import math\n",
    "import os\n",
    "import random\n",
    "import sys\n",
    "import time\n",
    "from itertools import chain\n",
    "from os import PathLike\n",
    "from pathlib import Path\n",
    "from typing import List, Tuple, Union\n",
    "\n",
    "import numpy as np\n",
    "import pyvista as pv\n",
    "import torch\n",
    "import torch.nn as nn\n",
    "import torch.nn.functional as F\n",
    "import torch.utils.checkpoint as cp\n",
    "from torch import Tensor\n",
    "import torch_geometric\n",
    "from torch_geometric.data import Batch, Data\n",
    "from torch_geometric.loader import DataLoader, NeighborLoader\n",
    "from torch_geometric.nn import GCNConv, GraphNorm, JumpingKnowledge, TransformerConv\n",
    "from tqdm.auto import tqdm\n",
    "import pyg_lib\n",
    "\n",
    "# Data and model settings\n",
    "DATA_ROOT = Path('data')\n",
    "TARGET_FIELD = 'static(p)_coeffMean'\n",
    "USE_NORMALS = True\n",
    "\n",
    "# Reproducibility\n",
    "random.seed(42)\n",
    "np.random.seed(42)\n",
    "torch.manual_seed(42)\n",
    "if torch.cuda.is_available():\n",
    "    torch.cuda.manual_seed_all(42)\n",
    "\n",
    "print(\"pyg-lib ok;\", getattr(pyg_lib, \"__version__\", \"ok\"))\n",
    "print('Torch:', torch.__version__)\n",
    "print('CUDA:', torch.version.cuda)\n",
    "print('PyVista:', pv.__version__)\n",
    "print('PyG:', torch_geometric.__version__ if 'torch_geometric' in sys.modules else 'unknown')\n",
    "print(\"py  :\", sys.version.split()[0])  # ex) 3.11.x"
   ]
  },
  {
   "cell_type": "markdown",
   "id": "d14c23b9",
   "metadata": {},
   "source": [
    "## Load Graphs"
   ]
  },
  {
   "cell_type": "code",
   "execution_count": 2,
   "id": "f76c3b12",
   "metadata": {},
   "outputs": [],
   "source": [
    "file_path = \"graphs_50.pt\"\n",
    "\n",
    "# torch로 로드\n",
    "model_state = torch.load(file_path, weights_only=False)"
   ]
  },
  {
   "cell_type": "code",
   "execution_count": 3,
   "id": "ead6264b",
   "metadata": {},
   "outputs": [],
   "source": [
    "train_graphs, val_graphs = model_state"
   ]
  },
  {
   "cell_type": "code",
   "execution_count": 4,
   "id": "2abc9461",
   "metadata": {},
   "outputs": [
    {
     "data": {
      "application/vnd.jupyter.widget-view+json": {
       "model_id": "ca96d1e210c24f0dbbd1e261327b6134",
       "version_major": 2,
       "version_minor": 0
      },
      "text/plain": [
       "to_pyg:   0%|          | 0/41 [00:00<?, ?it/s]"
      ]
     },
     "metadata": {},
     "output_type": "display_data"
    },
    {
     "data": {
      "application/vnd.jupyter.widget-view+json": {
       "model_id": "5d18ae194afd4f5d95bd0ea3f20426ae",
       "version_major": 2,
       "version_minor": 0
      },
      "text/plain": [
       "to_pyg:   0%|          | 0/10 [00:00<?, ?it/s]"
      ]
     },
     "metadata": {},
     "output_type": "display_data"
    }
   ],
   "source": [
    "def to_pyg(graphs):\n",
    "    out = []\n",
    "    for g in tqdm(graphs, desc='to_pyg'):\n",
    "        if isinstance(g, dict):\n",
    "            x = torch.tensor(g['x'], dtype=torch.float32)\n",
    "            edge_index = torch.tensor(g['edge_index'], dtype=torch.long)\n",
    "            y = torch.tensor(g['y'], dtype=torch.float32)\n",
    "            data_kwargs = dict(x=x, edge_index=edge_index, y=y)\n",
    "            # Preserve optional graph-level target if present\n",
    "            if 'y_graph' in g and g['y_graph'] is not None:\n",
    "                try:\n",
    "                    data_kwargs['y_graph'] = torch.tensor(g['y_graph'], dtype=torch.float32)\n",
    "                except Exception:\n",
    "                    # Fallback: leave as-is (in case already tensor-like)\n",
    "                    data_kwargs['y_graph'] = g['y_graph']\n",
    "            out.append(Data(**data_kwargs))\n",
    "        else:\n",
    "            # If already a Data object but missing y_graph while having y of graph-level shape, keep as is.\n",
    "            out.append(g)\n",
    "    return out\n",
    "\n",
    "train_graphs = to_pyg(train_graphs)\n",
    "val_graphs   = to_pyg(val_graphs)\n",
    "\n",
    "# PyG Data로 변환된 뒤에 한 번만 실행\n",
    "for lst in (train_graphs, val_graphs):\n",
    "    for d in lst:\n",
    "        if getattr(d, 'pos', None) is None:\n",
    "            d.pos = d.x[:, :3].contiguous()   # x = [xyz,(normals...)]"
   ]
  },
  {
   "cell_type": "markdown",
   "id": "ea601e3a",
   "metadata": {},
   "source": [
    "## Utilities"
   ]
  },
  {
   "cell_type": "code",
   "execution_count": 5,
   "id": "351599f8",
   "metadata": {},
   "outputs": [],
   "source": [
    "# 공용 옵션(줄 폭/갱신간격/TTY 아닌 환경 자동 비활성화)\n",
    "_TQDM_KW = dict(\n",
    "    ncols=100,                 # 줄바꿈 방지 (원하면 120~140)\n",
    "    dynamic_ncols=False,       # 고정 폭이 깔끔\n",
    "    mininterval=0.25,          # 너무 잦은 갱신 방지\n",
    "    smoothing=0.1,\n",
    "    bar_format=\"{l_bar}{bar}| {n_fmt}/{total_fmt} {rate_fmt} {postfix}\",\n",
    "    disable=not sys.stdout.isatty()  # 로그 캡처/파일일 땐 자동 끔\n",
    ")\n",
    "\n",
    "def _bar(total, desc, position, leave):\n",
    "    return tqdm(total=total, desc=desc, position=position, leave=leave, **_TQDM_KW)\n",
    "\n",
    "\n",
    "def _mkbar(total, desc, position=0, leave=False, progress=True):\n",
    "    if not progress:\n",
    "        return None  # 진행바 비활성화\n",
    "    return tqdm(\n",
    "        total=total, desc=desc, position=position, leave=leave,\n",
    "        ncols=100, dynamic_ncols=False, mininterval=0.25, smoothing=0.1,\n",
    "        bar_format=\"{l_bar}{bar}| {n_fmt}/{total_fmt} {rate_fmt} {postfix}\"\n",
    "    )\n",
    "\n",
    "def _update(bar, n=1, postfix=None):\n",
    "    if bar is None: return\n",
    "    if postfix is not None:\n",
    "        if isinstance(postfix, dict): bar.set_postfix(postfix)\n",
    "        else: bar.set_postfix_str(str(postfix))\n",
    "    bar.update(n)\n",
    "\n",
    "def _close(bar):\n",
    "    if bar is not None: bar.close()"
   ]
  },
  {
   "cell_type": "code",
   "execution_count": 6,
   "id": "3b99a014",
   "metadata": {},
   "outputs": [],
   "source": [
    "def build_csr_from_edge_index_no_torch_sparse(edge_index: Tensor, num_nodes: int,\n",
    "                                              make_undirected: bool=True) -> Tuple[Tensor, Tensor]:\n",
    "    assert edge_index.dtype == torch.long, f\"dtype must be torch.long, got {edge_index.dtype}\"\n",
    "    assert edge_index.dim() == 2 and edge_index.size(0) == 2, f\"edge_index shape must be [2, E], got {tuple(edge_index.shape)}\"\n",
    "\n",
    "    row0 = edge_index[0].contiguous()\n",
    "    col0 = edge_index[1].contiguous()\n",
    "\n",
    "    if make_undirected:\n",
    "        row = torch.cat([row0, col0], dim=0)\n",
    "        col = torch.cat([col0, row0], dim=0)\n",
    "    else:\n",
    "        row, col = row0, col0\n",
    "\n",
    "    assert row.numel() == col.numel(), f\"row({row.numel()}) and col({col.numel()}) must match\"\n",
    "\n",
    "    # 행-열 키로 정렬\n",
    "    stride = num_nodes\n",
    "    key = row * stride + col\n",
    "    perm = torch.argsort(key)\n",
    "    row = row[perm]\n",
    "    col = col[perm]\n",
    "\n",
    "    deg = torch.bincount(row, minlength=num_nodes)\n",
    "    rowptr = torch.empty(num_nodes + 1, dtype=torch.long)\n",
    "    rowptr[0] = 0\n",
    "    rowptr[1:] = torch.cumsum(deg, dim=0)\n",
    "    assert col.numel() == rowptr[-1].item(), \"CSR col length must equal rowptr[-1]\"\n",
    "    return rowptr, col.contiguous()\n",
    "\n",
    "\n",
    "\n",
    "from typing import List\n",
    "\n",
    "@torch.no_grad()\n",
    "def batched_khop_cover_pure_with_progress(\n",
    "    rowptr, col, num_nodes, *,\n",
    "    min_nodes=4096, k0=3, k_max=5, seeds_per_iter=512,\n",
    "    early_cut_ratio=1.10, overlap_ratio=0.2, seed=1234,\n",
    "    progress=True, gid=0\n",
    "):\n",
    "    g = torch.Generator(device='cpu'); g.manual_seed(seed)\n",
    "    uncovered = torch.ones(num_nodes, dtype=torch.bool)\n",
    "    order = torch.randperm(num_nodes, generator=g)\n",
    "    ptr = 0; patches = []\n",
    "\n",
    "    # 같은 라인 번호 고정(깨끗한 화면 유지)\n",
    "    bar_scan = _mkbar(num_nodes, f\"[g{gid}] scan\", position=2, leave=False, progress=progress)\n",
    "    bar_cov  = _mkbar(num_nodes, f\"[g{gid}] covered\", position=1, leave=False, progress=progress)\n",
    "    prev_cov = 0\n",
    "\n",
    "    def neighbors_of(frontier_idx):\n",
    "        starts = rowptr[frontier_idx]; ends = rowptr[frontier_idx+1]\n",
    "        counts = (ends - starts)\n",
    "        if counts.sum().item() == 0: return torch.empty(0, dtype=torch.long)\n",
    "        off = torch.empty_like(counts); off[0]=0\n",
    "        if counts.numel()>1: off[1:] = torch.cumsum(counts[:-1], dim=0)\n",
    "        total = counts.sum().item()\n",
    "        buf = torch.empty(total, dtype=torch.long)\n",
    "        for s,e,o in zip(starts.tolist(), ends.tolist(), off.tolist()):\n",
    "            if e>s: buf[o:o+(e-s)] = col[s:e]\n",
    "        return torch.unique(buf)\n",
    "\n",
    "    while ptr < num_nodes and uncovered.any():\n",
    "        batch = []; scanned=0\n",
    "        while len(batch) < seeds_per_iter and ptr < num_nodes:\n",
    "            u = order[ptr].item(); ptr += 1; scanned += 1\n",
    "            if uncovered[u]: batch.append(u)\n",
    "        if scanned: _update(bar_scan, scanned)\n",
    "        if not batch: break\n",
    "        batch = torch.tensor(batch, dtype=torch.long)\n",
    "\n",
    "        mask = torch.zeros(num_nodes, dtype=torch.bool); frontier = batch; k=0\n",
    "        while True:\n",
    "            mask[frontier] = True\n",
    "            if k>=k0 and mask.sum().item() >= int(min_nodes*early_cut_ratio): break\n",
    "            if k==k_max: break\n",
    "            neighs = neighbors_of(frontier)\n",
    "            if neighs.numel()==0: break\n",
    "            cand = neighs[~mask[neighs]]\n",
    "            if cand.numel()==0: break\n",
    "            frontier = cand; k += 1\n",
    "\n",
    "        chosen = mask.nonzero(as_tuple=False).view(-1)\n",
    "        if chosen.numel() > min_nodes:\n",
    "            perm = torch.randperm(chosen.numel(), generator=g)[:min_nodes]\n",
    "            chosen = chosen[perm]\n",
    "        patches.append(chosen)\n",
    "\n",
    "        if chosen.numel()>0:\n",
    "            take = torch.rand(chosen.size(0), generator=g) > overlap_ratio\n",
    "            uncovered[chosen[take]] = False\n",
    "\n",
    "        now_cov = (num_nodes - uncovered.sum().item())\n",
    "        _update(bar_cov, now_cov - prev_cov, postfix=f\"patches={len(patches)} k={k}\")\n",
    "        prev_cov = now_cov\n",
    "\n",
    "    _close(bar_scan); _close(bar_cov)\n",
    "    return patches\n",
    "\n",
    "\n",
    "\n",
    "\n",
    "from torch_geometric.data import Data\n",
    "\n",
    "def fast_make_subgraph_pure(g: Data, node_idx: Tensor) -> Data:\n",
    "    node_idx = node_idx.unique()\n",
    "    mask = torch.zeros(g.num_nodes, dtype=torch.bool)\n",
    "    mask[node_idx] = True\n",
    "\n",
    "    ei = g.edge_index\n",
    "    e_mask = mask[ei[0]] & mask[ei[1]]\n",
    "    sub_edge = ei[:, e_mask]\n",
    "\n",
    "    new_id = torch.full((g.num_nodes,), -1, dtype=torch.long)\n",
    "    new_id[mask] = torch.arange(mask.sum(), dtype=torch.long)\n",
    "    sub_edge = new_id[sub_edge]\n",
    "\n",
    "    sub = Data()\n",
    "    # 원본 E(엣지 수)\n",
    "    E = ei.size(1)\n",
    "\n",
    "    for k, v in g.items():\n",
    "        if k == \"edge_index\":\n",
    "            sub.edge_index = sub_edge\n",
    "            continue\n",
    "\n",
    "        if torch.is_tensor(v):\n",
    "            # 1) node-level: [N, ...]\n",
    "            if v.size(0) == g.num_nodes:\n",
    "                sub[k] = v[mask]\n",
    "                continue\n",
    "            # 2) edge-level: [E, ...]\n",
    "            if v.size(0) == E:\n",
    "                sub[k] = v[e_mask]\n",
    "                continue\n",
    "            # 3) graph-level scalar/벡터 (크기 1 또는 배치 없음)\n",
    "            if v.numel() == v.shape[0] and v.shape[0] == 1:\n",
    "                sub[k] = v\n",
    "                continue\n",
    "            # 4) 그 외(예: y_graph 같은 그래프 레벨 텐서)\n",
    "            #   - shape이 [G, ...]로 오면 그대로 둡니다(단일 그래프 가정).\n",
    "            sub[k] = v\n",
    "        else:\n",
    "            sub[k] = v\n",
    "            \n",
    "    return sub\n",
    "\n",
    "\n",
    "from os import PathLike\n",
    "from typing import Union, List\n",
    "import torch\n",
    "from torch import Tensor\n",
    "AnyPath = Union[str, bytes, PathLike]\n",
    "\n",
    "def save_indices_packed(patches: List[Tensor], save_path: AnyPath, *, progress=True, position=3):\n",
    "    sizes = [p.numel() for p in patches]\n",
    "    ptr = torch.zeros(len(patches) + 1, dtype=torch.long)\n",
    "    if sizes: ptr[1:] = torch.cumsum(torch.tensor(sizes, dtype=torch.long), dim=0)\n",
    "    nodes = torch.empty(ptr[-1].item(), dtype=torch.long)\n",
    "    off = 0\n",
    "\n",
    "    bar = _mkbar(len(patches), \"[cache] save patches\", position=position, leave=False, progress=progress)\n",
    "    for p in patches:\n",
    "        n = p.numel(); nodes[off:off+n] = p; off += n\n",
    "        _update(bar, 1)\n",
    "    _close(bar)\n",
    "    torch.save({\"ptr\": ptr, \"nodes\": nodes}, save_path)\n",
    "\n",
    "def load_indices_packed(save_path: AnyPath, *, progress=True, position=3) -> List[Tensor]:\n",
    "    obj = torch.load(save_path, map_location='cpu')\n",
    "    ptr, nodes = obj[\"ptr\"], obj[\"nodes\"]\n",
    "    out: List[Tensor] = []\n",
    "    bar = _mkbar(ptr.numel()-1, \"[cache] load patches\", position=position, leave=False, progress=progress)\n",
    "    for i in range(ptr.numel()-1):\n",
    "        lo, hi = ptr[i].item(), ptr[i+1].item()\n",
    "        out.append(nodes[lo:hi].clone())\n",
    "        _update(bar, 1)\n",
    "    _close(bar)\n",
    "    return out"
   ]
  },
  {
   "cell_type": "code",
   "execution_count": 7,
   "id": "6cb9c8a9",
   "metadata": {},
   "outputs": [],
   "source": [
    "def cluster_patch_loader_pure(\n",
    "    graphs: List[Data],\n",
    "    min_nodes=4096, save_root=None,\n",
    "    batch_size=4, shuffle=True, num_workers=0,\n",
    "    k0=3, k_max=5, seeds_per_iter=1024,\n",
    "    early_cut_ratio=1.10, overlap_ratio=0.2, seed=42,\n",
    "    *, progress=True, return_list=False\n",
    ") -> Tuple[iter, int]:\n",
    "\n",
    "    loaders = []\n",
    "    len_epoch = 0\n",
    "    bar_graphs = _mkbar(len(graphs), \"[graphs]\", position=0, leave=True, progress=progress)\n",
    "\n",
    "    for gid, g in enumerate(graphs):\n",
    "        cache_dir = Path(save_root) / f\"graph_{gid}\" if save_root else None\n",
    "        packed = cache_dir / \"patch_indices.pth\" if cache_dir else None\n",
    "\n",
    "        if cache_dir and packed.exists():\n",
    "            patches = load_indices_packed(packed, progress=progress, position=3)\n",
    "        else:\n",
    "            # CSR (여긴 표시 1칸만 점유)\n",
    "            bar_csr = _mkbar(1, f\"[g{gid}] build CSR\", position=3, leave=False, progress=progress)\n",
    "            rowptr, col = build_csr_from_edge_index_no_torch_sparse(\n",
    "                g.edge_index.cpu().long(), g.num_nodes, make_undirected=True\n",
    "            )\n",
    "            _update(bar_csr, 1); _close(bar_csr)\n",
    "\n",
    "            patches = batched_khop_cover_pure_with_progress(\n",
    "                rowptr=rowptr, col=col, num_nodes=g.num_nodes,\n",
    "                min_nodes=min_nodes, k0=k0, k_max=k_max, seeds_per_iter=seeds_per_iter,\n",
    "                early_cut_ratio=early_cut_ratio, overlap_ratio=overlap_ratio, seed=seed,\n",
    "                progress=progress, gid=gid\n",
    "            )\n",
    "            if cache_dir:\n",
    "                cache_dir.mkdir(parents=True, exist_ok=True)\n",
    "                save_indices_packed(patches, packed, progress=progress, position=3)\n",
    "\n",
    "        # Subgraph build (한 줄)\n",
    "        bar_subs = _mkbar(len(patches), f\"[g{gid}] make subgraphs\", position=3, leave=False, progress=progress)\n",
    "        subs = []\n",
    "        for idx in patches:\n",
    "            subs.append(fast_make_subgraph_pure(g, idx))\n",
    "            _update(bar_subs, 1)\n",
    "        _close(bar_subs)\n",
    "\n",
    "        ld = DataLoader(subs, batch_size=batch_size, shuffle=shuffle,\n",
    "                        num_workers=num_workers, pin_memory=True)\n",
    "        loaders.append(ld)\n",
    "        _update(bar_graphs, 1)\n",
    "        len_epoch += len(ld)\n",
    "\n",
    "    _close(bar_graphs)\n",
    "\n",
    "    if return_list:\n",
    "        return loaders, len_epoch\n",
    "    \n",
    "    else:\n",
    "        return chain(*loaders), len_epoch"
   ]
  },
  {
   "cell_type": "code",
   "execution_count": 8,
   "id": "3dfcd0cd",
   "metadata": {},
   "outputs": [
    {
     "name": "stdout",
     "output_type": "stream",
     "text": [
      "CUDA cache cleared.\n",
      "Garbage collected.\n"
     ]
    }
   ],
   "source": [
    "# Clear CUDA cache\n",
    "if torch.cuda.is_available():\n",
    "    torch.cuda.empty_cache()\n",
    "    print(\"CUDA cache cleared.\")\n",
    "\n",
    "# Collect garbage\n",
    "gc.collect()\n",
    "print(\"Garbage collected.\")"
   ]
  },
  {
   "cell_type": "code",
   "execution_count": null,
   "id": "0c17edb2",
   "metadata": {},
   "outputs": [
    {
     "data": {
      "application/vnd.jupyter.widget-view+json": {
       "model_id": "26025f3d117745768aecfa92982e155b",
       "version_major": 2,
       "version_minor": 0
      },
      "text/plain": [
       "[graphs]:   0%|                                                                        | 0/41 ?it/s "
      ]
     },
     "metadata": {},
     "output_type": "display_data"
    },
    {
     "data": {
      "application/vnd.jupyter.widget-view+json": {
       "model_id": "011e0f4f4aaa4ffc9824634ecdae9c44",
       "version_major": 2,
       "version_minor": 0
      },
      "text/plain": [
       "[g0] build CSR:   0%|                                                                   | 0/1 ?it/s "
      ]
     },
     "metadata": {},
     "output_type": "display_data"
    },
    {
     "data": {
      "application/vnd.jupyter.widget-view+json": {
       "model_id": "6c81c014f60a47a5a2265a58321a106a",
       "version_major": 2,
       "version_minor": 0
      },
      "text/plain": [
       "[g0] scan:   0%|                                                                  | 0/1066141 ?it/s "
      ]
     },
     "metadata": {},
     "output_type": "display_data"
    },
    {
     "data": {
      "application/vnd.jupyter.widget-view+json": {
       "model_id": "92bd471bd9564c29a7684703619a68ed",
       "version_major": 2,
       "version_minor": 0
      },
      "text/plain": [
       "[g0] covered:   0%|                                                               | 0/1066141 ?it/s "
      ]
     },
     "metadata": {},
     "output_type": "display_data"
    },
    {
     "data": {
      "application/vnd.jupyter.widget-view+json": {
       "model_id": "b94c838ec79045c9b74ec9ef3c6e05d3",
       "version_major": 2,
       "version_minor": 0
      },
      "text/plain": [
       "[cache] save patches:   0%|                                                           | 0/547 ?it/s "
      ]
     },
     "metadata": {},
     "output_type": "display_data"
    },
    {
     "data": {
      "application/vnd.jupyter.widget-view+json": {
       "model_id": "f59fd1ba947a44448644430ca2fbdba0",
       "version_major": 2,
       "version_minor": 0
      },
      "text/plain": [
       "[g0] make subgraphs:   0%|                                                            | 0/547 ?it/s "
      ]
     },
     "metadata": {},
     "output_type": "display_data"
    },
    {
     "data": {
      "application/vnd.jupyter.widget-view+json": {
       "model_id": "6f7f0c8b82a842ae9f1d7f9f4eab3736",
       "version_major": 2,
       "version_minor": 0
      },
      "text/plain": [
       "[g1] build CSR:   0%|                                                                   | 0/1 ?it/s "
      ]
     },
     "metadata": {},
     "output_type": "display_data"
    },
    {
     "data": {
      "application/vnd.jupyter.widget-view+json": {
       "model_id": "f0dc645587de44e2802503460fee0479",
       "version_major": 2,
       "version_minor": 0
      },
      "text/plain": [
       "[g1] scan:   0%|                                                                  | 0/1125935 ?it/s "
      ]
     },
     "metadata": {},
     "output_type": "display_data"
    },
    {
     "data": {
      "application/vnd.jupyter.widget-view+json": {
       "model_id": "47feed43702b44aa9bd9d6e2f379c3c4",
       "version_major": 2,
       "version_minor": 0
      },
      "text/plain": [
       "[g1] covered:   0%|                                                               | 0/1125935 ?it/s "
      ]
     },
     "metadata": {},
     "output_type": "display_data"
    },
    {
     "data": {
      "application/vnd.jupyter.widget-view+json": {
       "model_id": "f6b4a71960b646b3bc55211adf62b0ba",
       "version_major": 2,
       "version_minor": 0
      },
      "text/plain": [
       "[cache] save patches:   0%|                                                           | 0/578 ?it/s "
      ]
     },
     "metadata": {},
     "output_type": "display_data"
    },
    {
     "data": {
      "application/vnd.jupyter.widget-view+json": {
       "model_id": "edb8717898644365a1438937835845a6",
       "version_major": 2,
       "version_minor": 0
      },
      "text/plain": [
       "[g1] make subgraphs:   0%|                                                            | 0/578 ?it/s "
      ]
     },
     "metadata": {},
     "output_type": "display_data"
    },
    {
     "data": {
      "application/vnd.jupyter.widget-view+json": {
       "model_id": "9c6ca7222dd4467f8ff1a7e712c9578e",
       "version_major": 2,
       "version_minor": 0
      },
      "text/plain": [
       "[g2] build CSR:   0%|                                                                   | 0/1 ?it/s "
      ]
     },
     "metadata": {},
     "output_type": "display_data"
    },
    {
     "data": {
      "application/vnd.jupyter.widget-view+json": {
       "model_id": "d6ecc86cb91f4146a8d0b6e141739c92",
       "version_major": 2,
       "version_minor": 0
      },
      "text/plain": [
       "[g2] scan:   0%|                                                                  | 0/1165571 ?it/s "
      ]
     },
     "metadata": {},
     "output_type": "display_data"
    },
    {
     "data": {
      "application/vnd.jupyter.widget-view+json": {
       "model_id": "c810e64f4c9b4d2e88fde3e5d61ae356",
       "version_major": 2,
       "version_minor": 0
      },
      "text/plain": [
       "[g2] covered:   0%|                                                               | 0/1165571 ?it/s "
      ]
     },
     "metadata": {},
     "output_type": "display_data"
    },
    {
     "data": {
      "application/vnd.jupyter.widget-view+json": {
       "model_id": "0ec41a28e87841dd81d7ef9ae7573e06",
       "version_major": 2,
       "version_minor": 0
      },
      "text/plain": [
       "[cache] save patches:   0%|                                                           | 0/598 ?it/s "
      ]
     },
     "metadata": {},
     "output_type": "display_data"
    },
    {
     "data": {
      "application/vnd.jupyter.widget-view+json": {
       "model_id": "8be6e2268a2f400db2ae295ba55c906b",
       "version_major": 2,
       "version_minor": 0
      },
      "text/plain": [
       "[g2] make subgraphs:   0%|                                                            | 0/598 ?it/s "
      ]
     },
     "metadata": {},
     "output_type": "display_data"
    },
    {
     "data": {
      "application/vnd.jupyter.widget-view+json": {
       "model_id": "b11165341f0d4928a29dca53505e2c51",
       "version_major": 2,
       "version_minor": 0
      },
      "text/plain": [
       "[g3] build CSR:   0%|                                                                   | 0/1 ?it/s "
      ]
     },
     "metadata": {},
     "output_type": "display_data"
    },
    {
     "data": {
      "application/vnd.jupyter.widget-view+json": {
       "model_id": "15c51c849f90473880fdd96492ed5983",
       "version_major": 2,
       "version_minor": 0
      },
      "text/plain": [
       "[g3] scan:   0%|                                                                  | 0/1050167 ?it/s "
      ]
     },
     "metadata": {},
     "output_type": "display_data"
    },
    {
     "data": {
      "application/vnd.jupyter.widget-view+json": {
       "model_id": "ef533c22f9e341e9bd485e0bd3c7842a",
       "version_major": 2,
       "version_minor": 0
      },
      "text/plain": [
       "[g3] covered:   0%|                                                               | 0/1050167 ?it/s "
      ]
     },
     "metadata": {},
     "output_type": "display_data"
    },
    {
     "data": {
      "application/vnd.jupyter.widget-view+json": {
       "model_id": "ae3a90698aa9490ab8c6a45b13b68145",
       "version_major": 2,
       "version_minor": 0
      },
      "text/plain": [
       "[cache] save patches:   0%|                                                           | 0/540 ?it/s "
      ]
     },
     "metadata": {},
     "output_type": "display_data"
    },
    {
     "data": {
      "application/vnd.jupyter.widget-view+json": {
       "model_id": "afbb7852fe6948aa9d792d35bdc3f385",
       "version_major": 2,
       "version_minor": 0
      },
      "text/plain": [
       "[g3] make subgraphs:   0%|                                                            | 0/540 ?it/s "
      ]
     },
     "metadata": {},
     "output_type": "display_data"
    },
    {
     "data": {
      "application/vnd.jupyter.widget-view+json": {
       "model_id": "70b5108882cf487aaa20014dd19f4048",
       "version_major": 2,
       "version_minor": 0
      },
      "text/plain": [
       "[g4] build CSR:   0%|                                                                   | 0/1 ?it/s "
      ]
     },
     "metadata": {},
     "output_type": "display_data"
    },
    {
     "data": {
      "application/vnd.jupyter.widget-view+json": {
       "model_id": "eafda76e556b4330a05c307278daf53a",
       "version_major": 2,
       "version_minor": 0
      },
      "text/plain": [
       "[g4] scan:   0%|                                                                   | 0/874742 ?it/s "
      ]
     },
     "metadata": {},
     "output_type": "display_data"
    },
    {
     "data": {
      "application/vnd.jupyter.widget-view+json": {
       "model_id": "ef0ad9d5f7234f3189a75570dbb5067f",
       "version_major": 2,
       "version_minor": 0
      },
      "text/plain": [
       "[g4] covered:   0%|                                                                | 0/874742 ?it/s "
      ]
     },
     "metadata": {},
     "output_type": "display_data"
    },
    {
     "data": {
      "application/vnd.jupyter.widget-view+json": {
       "model_id": "44d6ca0c3da34367a44f4910556492a2",
       "version_major": 2,
       "version_minor": 0
      },
      "text/plain": [
       "[cache] save patches:   0%|                                                           | 0/449 ?it/s "
      ]
     },
     "metadata": {},
     "output_type": "display_data"
    },
    {
     "data": {
      "application/vnd.jupyter.widget-view+json": {
       "model_id": "afbc53f48a6749c88b755325833928f7",
       "version_major": 2,
       "version_minor": 0
      },
      "text/plain": [
       "[g4] make subgraphs:   0%|                                                            | 0/449 ?it/s "
      ]
     },
     "metadata": {},
     "output_type": "display_data"
    },
    {
     "data": {
      "application/vnd.jupyter.widget-view+json": {
       "model_id": "729fb00825bc4dab924fb7b4430b6d4b",
       "version_major": 2,
       "version_minor": 0
      },
      "text/plain": [
       "[g5] build CSR:   0%|                                                                   | 0/1 ?it/s "
      ]
     },
     "metadata": {},
     "output_type": "display_data"
    },
    {
     "data": {
      "application/vnd.jupyter.widget-view+json": {
       "model_id": "95feabc9b9cf4a7faa51211d45e6c326",
       "version_major": 2,
       "version_minor": 0
      },
      "text/plain": [
       "[g5] scan:   0%|                                                                  | 0/1002112 ?it/s "
      ]
     },
     "metadata": {},
     "output_type": "display_data"
    },
    {
     "data": {
      "application/vnd.jupyter.widget-view+json": {
       "model_id": "77987a8305974fd48e86d1c878729a9a",
       "version_major": 2,
       "version_minor": 0
      },
      "text/plain": [
       "[g5] covered:   0%|                                                               | 0/1002112 ?it/s "
      ]
     },
     "metadata": {},
     "output_type": "display_data"
    },
    {
     "data": {
      "application/vnd.jupyter.widget-view+json": {
       "model_id": "e6af0eb9095744ab97621f2122caef6b",
       "version_major": 2,
       "version_minor": 0
      },
      "text/plain": [
       "[cache] save patches:   0%|                                                           | 0/515 ?it/s "
      ]
     },
     "metadata": {},
     "output_type": "display_data"
    },
    {
     "data": {
      "application/vnd.jupyter.widget-view+json": {
       "model_id": "9bc66ef0a4d44655a774bcf88fca4411",
       "version_major": 2,
       "version_minor": 0
      },
      "text/plain": [
       "[g5] make subgraphs:   0%|                                                            | 0/515 ?it/s "
      ]
     },
     "metadata": {},
     "output_type": "display_data"
    },
    {
     "data": {
      "application/vnd.jupyter.widget-view+json": {
       "model_id": "b90fe68c87624500a8ac61b3afe5aed1",
       "version_major": 2,
       "version_minor": 0
      },
      "text/plain": [
       "[g6] build CSR:   0%|                                                                   | 0/1 ?it/s "
      ]
     },
     "metadata": {},
     "output_type": "display_data"
    },
    {
     "data": {
      "application/vnd.jupyter.widget-view+json": {
       "model_id": "8424affe778543e3af1ee7b73e201426",
       "version_major": 2,
       "version_minor": 0
      },
      "text/plain": [
       "[g6] scan:   0%|                                                                  | 0/1032781 ?it/s "
      ]
     },
     "metadata": {},
     "output_type": "display_data"
    },
    {
     "data": {
      "application/vnd.jupyter.widget-view+json": {
       "model_id": "9311e28e30514f8ab625fd4bc93be681",
       "version_major": 2,
       "version_minor": 0
      },
      "text/plain": [
       "[g6] covered:   0%|                                                               | 0/1032781 ?it/s "
      ]
     },
     "metadata": {},
     "output_type": "display_data"
    },
    {
     "data": {
      "application/vnd.jupyter.widget-view+json": {
       "model_id": "23bd4705f10e4528be4ea05284eea5a6",
       "version_major": 2,
       "version_minor": 0
      },
      "text/plain": [
       "[cache] save patches:   0%|                                                           | 0/530 ?it/s "
      ]
     },
     "metadata": {},
     "output_type": "display_data"
    },
    {
     "data": {
      "application/vnd.jupyter.widget-view+json": {
       "model_id": "093680bfa5304f83b69c8eb74a26e5a2",
       "version_major": 2,
       "version_minor": 0
      },
      "text/plain": [
       "[g6] make subgraphs:   0%|                                                            | 0/530 ?it/s "
      ]
     },
     "metadata": {},
     "output_type": "display_data"
    },
    {
     "data": {
      "application/vnd.jupyter.widget-view+json": {
       "model_id": "435c3842d57f4c8686899f9c13f21892",
       "version_major": 2,
       "version_minor": 0
      },
      "text/plain": [
       "[g7] build CSR:   0%|                                                                   | 0/1 ?it/s "
      ]
     },
     "metadata": {},
     "output_type": "display_data"
    },
    {
     "data": {
      "application/vnd.jupyter.widget-view+json": {
       "model_id": "9e362bf3073d45288d8501ec93974b23",
       "version_major": 2,
       "version_minor": 0
      },
      "text/plain": [
       "[g7] scan:   0%|                                                                  | 0/1199546 ?it/s "
      ]
     },
     "metadata": {},
     "output_type": "display_data"
    },
    {
     "data": {
      "application/vnd.jupyter.widget-view+json": {
       "model_id": "58768b9b5cd54a669011a56e59d3428b",
       "version_major": 2,
       "version_minor": 0
      },
      "text/plain": [
       "[g7] covered:   0%|                                                               | 0/1199546 ?it/s "
      ]
     },
     "metadata": {},
     "output_type": "display_data"
    },
    {
     "data": {
      "application/vnd.jupyter.widget-view+json": {
       "model_id": "072ab1fc82ac4f81a0835bb073a9d34e",
       "version_major": 2,
       "version_minor": 0
      },
      "text/plain": [
       "[cache] save patches:   0%|                                                           | 0/616 ?it/s "
      ]
     },
     "metadata": {},
     "output_type": "display_data"
    },
    {
     "data": {
      "application/vnd.jupyter.widget-view+json": {
       "model_id": "743505291a9144b49b625ab910f0c6bb",
       "version_major": 2,
       "version_minor": 0
      },
      "text/plain": [
       "[g7] make subgraphs:   0%|                                                            | 0/616 ?it/s "
      ]
     },
     "metadata": {},
     "output_type": "display_data"
    },
    {
     "data": {
      "application/vnd.jupyter.widget-view+json": {
       "model_id": "d4920895b254448a99339199151555c3",
       "version_major": 2,
       "version_minor": 0
      },
      "text/plain": [
       "[g8] build CSR:   0%|                                                                   | 0/1 ?it/s "
      ]
     },
     "metadata": {},
     "output_type": "display_data"
    },
    {
     "data": {
      "application/vnd.jupyter.widget-view+json": {
       "model_id": "44a8a484ac1d4e79bf4d0e54ea1d954d",
       "version_major": 2,
       "version_minor": 0
      },
      "text/plain": [
       "[g8] scan:   0%|                                                                  | 0/1147468 ?it/s "
      ]
     },
     "metadata": {},
     "output_type": "display_data"
    },
    {
     "data": {
      "application/vnd.jupyter.widget-view+json": {
       "model_id": "2a5d5db87af746a8ba2c2d2761d055b9",
       "version_major": 2,
       "version_minor": 0
      },
      "text/plain": [
       "[g8] covered:   0%|                                                               | 0/1147468 ?it/s "
      ]
     },
     "metadata": {},
     "output_type": "display_data"
    },
    {
     "data": {
      "application/vnd.jupyter.widget-view+json": {
       "model_id": "520b3663505c449b9e142cc875380561",
       "version_major": 2,
       "version_minor": 0
      },
      "text/plain": [
       "[cache] save patches:   0%|                                                           | 0/589 ?it/s "
      ]
     },
     "metadata": {},
     "output_type": "display_data"
    },
    {
     "data": {
      "application/vnd.jupyter.widget-view+json": {
       "model_id": "9853669cee174d30a58e8cd0fecb81a1",
       "version_major": 2,
       "version_minor": 0
      },
      "text/plain": [
       "[g8] make subgraphs:   0%|                                                            | 0/589 ?it/s "
      ]
     },
     "metadata": {},
     "output_type": "display_data"
    },
    {
     "data": {
      "application/vnd.jupyter.widget-view+json": {
       "model_id": "929d252adf944f01a88cb51c9afabb50",
       "version_major": 2,
       "version_minor": 0
      },
      "text/plain": [
       "[g9] build CSR:   0%|                                                                   | 0/1 ?it/s "
      ]
     },
     "metadata": {},
     "output_type": "display_data"
    },
    {
     "data": {
      "application/vnd.jupyter.widget-view+json": {
       "model_id": "c926328218624e1f8f88a583ffd35eb9",
       "version_major": 2,
       "version_minor": 0
      },
      "text/plain": [
       "[g9] scan:   0%|                                                                  | 0/1131049 ?it/s "
      ]
     },
     "metadata": {},
     "output_type": "display_data"
    },
    {
     "data": {
      "application/vnd.jupyter.widget-view+json": {
       "model_id": "29632263cca8438e89b3ac5ac7027a6d",
       "version_major": 2,
       "version_minor": 0
      },
      "text/plain": [
       "[g9] covered:   0%|                                                               | 0/1131049 ?it/s "
      ]
     },
     "metadata": {},
     "output_type": "display_data"
    },
    {
     "data": {
      "application/vnd.jupyter.widget-view+json": {
       "model_id": "5bb1b3d6fbde4ce297a58314c8f1f739",
       "version_major": 2,
       "version_minor": 0
      },
      "text/plain": [
       "[cache] save patches:   0%|                                                           | 0/580 ?it/s "
      ]
     },
     "metadata": {},
     "output_type": "display_data"
    },
    {
     "data": {
      "application/vnd.jupyter.widget-view+json": {
       "model_id": "e9285fba06b647aca9b41ae0a5470f2c",
       "version_major": 2,
       "version_minor": 0
      },
      "text/plain": [
       "[g9] make subgraphs:   0%|                                                            | 0/580 ?it/s "
      ]
     },
     "metadata": {},
     "output_type": "display_data"
    },
    {
     "data": {
      "application/vnd.jupyter.widget-view+json": {
       "model_id": "a2facdaa9a514e6a872212da43d6c3dc",
       "version_major": 2,
       "version_minor": 0
      },
      "text/plain": [
       "[g10] build CSR:   0%|                                                                  | 0/1 ?it/s "
      ]
     },
     "metadata": {},
     "output_type": "display_data"
    },
    {
     "data": {
      "application/vnd.jupyter.widget-view+json": {
       "model_id": "9bc56d43013646729f39f581f5cb3b49",
       "version_major": 2,
       "version_minor": 0
      },
      "text/plain": [
       "[g10] scan:   0%|                                                                  | 0/962658 ?it/s "
      ]
     },
     "metadata": {},
     "output_type": "display_data"
    },
    {
     "data": {
      "application/vnd.jupyter.widget-view+json": {
       "model_id": "d9d636580f3c4004b8157565e49befb7",
       "version_major": 2,
       "version_minor": 0
      },
      "text/plain": [
       "[g10] covered:   0%|                                                               | 0/962658 ?it/s "
      ]
     },
     "metadata": {},
     "output_type": "display_data"
    },
    {
     "data": {
      "application/vnd.jupyter.widget-view+json": {
       "model_id": "3a0d6a15c1974cf88c40748f09658a47",
       "version_major": 2,
       "version_minor": 0
      },
      "text/plain": [
       "[cache] save patches:   0%|                                                           | 0/494 ?it/s "
      ]
     },
     "metadata": {},
     "output_type": "display_data"
    },
    {
     "data": {
      "application/vnd.jupyter.widget-view+json": {
       "model_id": "d1dbf47483a64138af220031317397d0",
       "version_major": 2,
       "version_minor": 0
      },
      "text/plain": [
       "[g10] make subgraphs:   0%|                                                           | 0/494 ?it/s "
      ]
     },
     "metadata": {},
     "output_type": "display_data"
    },
    {
     "data": {
      "application/vnd.jupyter.widget-view+json": {
       "model_id": "4045f99ac5334ea9bbd523ea8a725f89",
       "version_major": 2,
       "version_minor": 0
      },
      "text/plain": [
       "[g11] build CSR:   0%|                                                                  | 0/1 ?it/s "
      ]
     },
     "metadata": {},
     "output_type": "display_data"
    },
    {
     "data": {
      "application/vnd.jupyter.widget-view+json": {
       "model_id": "2291c206263a454daec3dd11f804dff8",
       "version_major": 2,
       "version_minor": 0
      },
      "text/plain": [
       "[g11] scan:   0%|                                                                 | 0/1207932 ?it/s "
      ]
     },
     "metadata": {},
     "output_type": "display_data"
    },
    {
     "data": {
      "application/vnd.jupyter.widget-view+json": {
       "model_id": "0dc4d3a18b3542b4b864cc7123222f0f",
       "version_major": 2,
       "version_minor": 0
      },
      "text/plain": [
       "[g11] covered:   0%|                                                              | 0/1207932 ?it/s "
      ]
     },
     "metadata": {},
     "output_type": "display_data"
    },
    {
     "data": {
      "application/vnd.jupyter.widget-view+json": {
       "model_id": "19141b74139e42efa74d3b0c4c049b78",
       "version_major": 2,
       "version_minor": 0
      },
      "text/plain": [
       "[cache] save patches:   0%|                                                           | 0/620 ?it/s "
      ]
     },
     "metadata": {},
     "output_type": "display_data"
    },
    {
     "data": {
      "application/vnd.jupyter.widget-view+json": {
       "model_id": "d6b3e6f190c442b4a39d2c36fb572692",
       "version_major": 2,
       "version_minor": 0
      },
      "text/plain": [
       "[g11] make subgraphs:   0%|                                                           | 0/620 ?it/s "
      ]
     },
     "metadata": {},
     "output_type": "display_data"
    },
    {
     "data": {
      "application/vnd.jupyter.widget-view+json": {
       "model_id": "d90cc9ba8c6040a0bb29ba931fcf437d",
       "version_major": 2,
       "version_minor": 0
      },
      "text/plain": [
       "[g12] build CSR:   0%|                                                                  | 0/1 ?it/s "
      ]
     },
     "metadata": {},
     "output_type": "display_data"
    },
    {
     "data": {
      "application/vnd.jupyter.widget-view+json": {
       "model_id": "7dd8f65ebd1e424bb675a8ae42c8f3b2",
       "version_major": 2,
       "version_minor": 0
      },
      "text/plain": [
       "[g12] scan:   0%|                                                                 | 0/1192424 ?it/s "
      ]
     },
     "metadata": {},
     "output_type": "display_data"
    },
    {
     "data": {
      "application/vnd.jupyter.widget-view+json": {
       "model_id": "407a4c0b3a764c00962ee041ffc6c935",
       "version_major": 2,
       "version_minor": 0
      },
      "text/plain": [
       "[g12] covered:   0%|                                                              | 0/1192424 ?it/s "
      ]
     },
     "metadata": {},
     "output_type": "display_data"
    },
    {
     "data": {
      "application/vnd.jupyter.widget-view+json": {
       "model_id": "24b2363a14924b23adb15278d6611663",
       "version_major": 2,
       "version_minor": 0
      },
      "text/plain": [
       "[cache] save patches:   0%|                                                           | 0/612 ?it/s "
      ]
     },
     "metadata": {},
     "output_type": "display_data"
    },
    {
     "data": {
      "application/vnd.jupyter.widget-view+json": {
       "model_id": "42bb4ba7c00e4f2eb85dfc74ec0ac136",
       "version_major": 2,
       "version_minor": 0
      },
      "text/plain": [
       "[g12] make subgraphs:   0%|                                                           | 0/612 ?it/s "
      ]
     },
     "metadata": {},
     "output_type": "display_data"
    },
    {
     "data": {
      "application/vnd.jupyter.widget-view+json": {
       "model_id": "6ff98ad080284a8996f9947cbb4c4760",
       "version_major": 2,
       "version_minor": 0
      },
      "text/plain": [
       "[g13] build CSR:   0%|                                                                  | 0/1 ?it/s "
      ]
     },
     "metadata": {},
     "output_type": "display_data"
    },
    {
     "data": {
      "application/vnd.jupyter.widget-view+json": {
       "model_id": "e435ab821ac749f2a632b20ac0f7cb17",
       "version_major": 2,
       "version_minor": 0
      },
      "text/plain": [
       "[g13] scan:   0%|                                                                 | 0/1106471 ?it/s "
      ]
     },
     "metadata": {},
     "output_type": "display_data"
    },
    {
     "data": {
      "application/vnd.jupyter.widget-view+json": {
       "model_id": "8c969897237e40199aeda3c342910f63",
       "version_major": 2,
       "version_minor": 0
      },
      "text/plain": [
       "[g13] covered:   0%|                                                              | 0/1106471 ?it/s "
      ]
     },
     "metadata": {},
     "output_type": "display_data"
    },
    {
     "data": {
      "application/vnd.jupyter.widget-view+json": {
       "model_id": "77a013c0ac854131b0e8970b0185d752",
       "version_major": 2,
       "version_minor": 0
      },
      "text/plain": [
       "[cache] save patches:   0%|                                                           | 0/569 ?it/s "
      ]
     },
     "metadata": {},
     "output_type": "display_data"
    },
    {
     "data": {
      "application/vnd.jupyter.widget-view+json": {
       "model_id": "3444c622aec646deb6495e3d2cc1de20",
       "version_major": 2,
       "version_minor": 0
      },
      "text/plain": [
       "[g13] make subgraphs:   0%|                                                           | 0/569 ?it/s "
      ]
     },
     "metadata": {},
     "output_type": "display_data"
    },
    {
     "data": {
      "application/vnd.jupyter.widget-view+json": {
       "model_id": "3040394e012940cc9a520e25db2a042e",
       "version_major": 2,
       "version_minor": 0
      },
      "text/plain": [
       "[g14] build CSR:   0%|                                                                  | 0/1 ?it/s "
      ]
     },
     "metadata": {},
     "output_type": "display_data"
    },
    {
     "data": {
      "application/vnd.jupyter.widget-view+json": {
       "model_id": "9a6683cfe9e64cf39db73aad2f98ac34",
       "version_major": 2,
       "version_minor": 0
      },
      "text/plain": [
       "[g14] scan:   0%|                                                                  | 0/949780 ?it/s "
      ]
     },
     "metadata": {},
     "output_type": "display_data"
    },
    {
     "data": {
      "application/vnd.jupyter.widget-view+json": {
       "model_id": "896dc5f05fb14dfaaf8de10218ef7df1",
       "version_major": 2,
       "version_minor": 0
      },
      "text/plain": [
       "[g14] covered:   0%|                                                               | 0/949780 ?it/s "
      ]
     },
     "metadata": {},
     "output_type": "display_data"
    },
    {
     "data": {
      "application/vnd.jupyter.widget-view+json": {
       "model_id": "cf3db774809b4e5388e3558781f755e8",
       "version_major": 2,
       "version_minor": 0
      },
      "text/plain": [
       "[cache] save patches:   0%|                                                           | 0/488 ?it/s "
      ]
     },
     "metadata": {},
     "output_type": "display_data"
    },
    {
     "data": {
      "application/vnd.jupyter.widget-view+json": {
       "model_id": "2442b26aea7443c282c89799940d3853",
       "version_major": 2,
       "version_minor": 0
      },
      "text/plain": [
       "[g14] make subgraphs:   0%|                                                           | 0/488 ?it/s "
      ]
     },
     "metadata": {},
     "output_type": "display_data"
    },
    {
     "data": {
      "application/vnd.jupyter.widget-view+json": {
       "model_id": "4ba39e9df5ab40fe80be392461f90eb3",
       "version_major": 2,
       "version_minor": 0
      },
      "text/plain": [
       "[g15] build CSR:   0%|                                                                  | 0/1 ?it/s "
      ]
     },
     "metadata": {},
     "output_type": "display_data"
    },
    {
     "data": {
      "application/vnd.jupyter.widget-view+json": {
       "model_id": "5d278c8ee8b744d888986d0f3fb4ecf6",
       "version_major": 2,
       "version_minor": 0
      },
      "text/plain": [
       "[g15] scan:   0%|                                                                  | 0/818693 ?it/s "
      ]
     },
     "metadata": {},
     "output_type": "display_data"
    },
    {
     "data": {
      "application/vnd.jupyter.widget-view+json": {
       "model_id": "a72232ab42cf4b11a85af2ed18277bef",
       "version_major": 2,
       "version_minor": 0
      },
      "text/plain": [
       "[g15] covered:   0%|                                                               | 0/818693 ?it/s "
      ]
     },
     "metadata": {},
     "output_type": "display_data"
    },
    {
     "data": {
      "application/vnd.jupyter.widget-view+json": {
       "model_id": "fcaeaf4578904ad090c7eccf1e2087cb",
       "version_major": 2,
       "version_minor": 0
      },
      "text/plain": [
       "[cache] save patches:   0%|                                                           | 0/421 ?it/s "
      ]
     },
     "metadata": {},
     "output_type": "display_data"
    },
    {
     "data": {
      "application/vnd.jupyter.widget-view+json": {
       "model_id": "fef033930df24128b9407b895af7ac3a",
       "version_major": 2,
       "version_minor": 0
      },
      "text/plain": [
       "[g15] make subgraphs:   0%|                                                           | 0/421 ?it/s "
      ]
     },
     "metadata": {},
     "output_type": "display_data"
    },
    {
     "data": {
      "application/vnd.jupyter.widget-view+json": {
       "model_id": "1045a87910d8406aac887b10a7f1279c",
       "version_major": 2,
       "version_minor": 0
      },
      "text/plain": [
       "[g16] build CSR:   0%|                                                                  | 0/1 ?it/s "
      ]
     },
     "metadata": {},
     "output_type": "display_data"
    },
    {
     "data": {
      "application/vnd.jupyter.widget-view+json": {
       "model_id": "9efb1caa42964e5cbca2ec47b29dcac1",
       "version_major": 2,
       "version_minor": 0
      },
      "text/plain": [
       "[g16] scan:   0%|                                                                  | 0/949463 ?it/s "
      ]
     },
     "metadata": {},
     "output_type": "display_data"
    },
    {
     "data": {
      "application/vnd.jupyter.widget-view+json": {
       "model_id": "5e91f69f7ac743c6906fad53436cde71",
       "version_major": 2,
       "version_minor": 0
      },
      "text/plain": [
       "[g16] covered:   0%|                                                               | 0/949463 ?it/s "
      ]
     },
     "metadata": {},
     "output_type": "display_data"
    },
    {
     "data": {
      "application/vnd.jupyter.widget-view+json": {
       "model_id": "13fdb6e6bfc3436eaff05d7239d0a897",
       "version_major": 2,
       "version_minor": 0
      },
      "text/plain": [
       "[cache] save patches:   0%|                                                           | 0/488 ?it/s "
      ]
     },
     "metadata": {},
     "output_type": "display_data"
    },
    {
     "data": {
      "application/vnd.jupyter.widget-view+json": {
       "model_id": "21d24014c94a4383b01cf30246295619",
       "version_major": 2,
       "version_minor": 0
      },
      "text/plain": [
       "[g16] make subgraphs:   0%|                                                           | 0/488 ?it/s "
      ]
     },
     "metadata": {},
     "output_type": "display_data"
    },
    {
     "data": {
      "application/vnd.jupyter.widget-view+json": {
       "model_id": "3a65b27aff1c4b0caad9cc81422cb51a",
       "version_major": 2,
       "version_minor": 0
      },
      "text/plain": [
       "[g17] build CSR:   0%|                                                                  | 0/1 ?it/s "
      ]
     },
     "metadata": {},
     "output_type": "display_data"
    },
    {
     "data": {
      "application/vnd.jupyter.widget-view+json": {
       "model_id": "579a5036a8a24edd8b25559e46f9b802",
       "version_major": 2,
       "version_minor": 0
      },
      "text/plain": [
       "[g17] scan:   0%|                                                                 | 0/1268335 ?it/s "
      ]
     },
     "metadata": {},
     "output_type": "display_data"
    },
    {
     "data": {
      "application/vnd.jupyter.widget-view+json": {
       "model_id": "21ec7bbe1ce2429e8e32c7e609b370de",
       "version_major": 2,
       "version_minor": 0
      },
      "text/plain": [
       "[g17] covered:   0%|                                                              | 0/1268335 ?it/s "
      ]
     },
     "metadata": {},
     "output_type": "display_data"
    },
    {
     "data": {
      "application/vnd.jupyter.widget-view+json": {
       "model_id": "4218db7bba51453cb6c6b9d1082afb52",
       "version_major": 2,
       "version_minor": 0
      },
      "text/plain": [
       "[cache] save patches:   0%|                                                           | 0/651 ?it/s "
      ]
     },
     "metadata": {},
     "output_type": "display_data"
    },
    {
     "data": {
      "application/vnd.jupyter.widget-view+json": {
       "model_id": "59005daea03f4af4b0c9baf31c6b9e3a",
       "version_major": 2,
       "version_minor": 0
      },
      "text/plain": [
       "[g17] make subgraphs:   0%|                                                           | 0/651 ?it/s "
      ]
     },
     "metadata": {},
     "output_type": "display_data"
    },
    {
     "data": {
      "application/vnd.jupyter.widget-view+json": {
       "model_id": "cd084e66f71b4f89b2f99ad8d6e24c62",
       "version_major": 2,
       "version_minor": 0
      },
      "text/plain": [
       "[g18] build CSR:   0%|                                                                  | 0/1 ?it/s "
      ]
     },
     "metadata": {},
     "output_type": "display_data"
    },
    {
     "data": {
      "application/vnd.jupyter.widget-view+json": {
       "model_id": "4cce669f29334d189df08c90c0f47427",
       "version_major": 2,
       "version_minor": 0
      },
      "text/plain": [
       "[g18] scan:   0%|                                                                  | 0/836180 ?it/s "
      ]
     },
     "metadata": {},
     "output_type": "display_data"
    },
    {
     "data": {
      "application/vnd.jupyter.widget-view+json": {
       "model_id": "d450cdebcdad45f7a2936d40d2d81ac4",
       "version_major": 2,
       "version_minor": 0
      },
      "text/plain": [
       "[g18] covered:   0%|                                                               | 0/836180 ?it/s "
      ]
     },
     "metadata": {},
     "output_type": "display_data"
    },
    {
     "data": {
      "application/vnd.jupyter.widget-view+json": {
       "model_id": "0512bff7b312468897d260e0bf4477ca",
       "version_major": 2,
       "version_minor": 0
      },
      "text/plain": [
       "[cache] save patches:   0%|                                                           | 0/430 ?it/s "
      ]
     },
     "metadata": {},
     "output_type": "display_data"
    },
    {
     "data": {
      "application/vnd.jupyter.widget-view+json": {
       "model_id": "148a9ae3fa234fa9961b903f57ce3e0b",
       "version_major": 2,
       "version_minor": 0
      },
      "text/plain": [
       "[g18] make subgraphs:   0%|                                                           | 0/430 ?it/s "
      ]
     },
     "metadata": {},
     "output_type": "display_data"
    },
    {
     "data": {
      "application/vnd.jupyter.widget-view+json": {
       "model_id": "f57d60ac44ff44eb8ae9c011963cbe34",
       "version_major": 2,
       "version_minor": 0
      },
      "text/plain": [
       "[g19] build CSR:   0%|                                                                  | 0/1 ?it/s "
      ]
     },
     "metadata": {},
     "output_type": "display_data"
    },
    {
     "data": {
      "application/vnd.jupyter.widget-view+json": {
       "model_id": "31c16f64d12044d3aa94357741bab539",
       "version_major": 2,
       "version_minor": 0
      },
      "text/plain": [
       "[g19] scan:   0%|                                                                 | 0/1138721 ?it/s "
      ]
     },
     "metadata": {},
     "output_type": "display_data"
    },
    {
     "data": {
      "application/vnd.jupyter.widget-view+json": {
       "model_id": "b003cc2e6d92432aac29f0c9cf73dc5e",
       "version_major": 2,
       "version_minor": 0
      },
      "text/plain": [
       "[g19] covered:   0%|                                                              | 0/1138721 ?it/s "
      ]
     },
     "metadata": {},
     "output_type": "display_data"
    },
    {
     "data": {
      "application/vnd.jupyter.widget-view+json": {
       "model_id": "6df45197f5894d3d8714cd5082f879d1",
       "version_major": 2,
       "version_minor": 0
      },
      "text/plain": [
       "[cache] save patches:   0%|                                                           | 0/584 ?it/s "
      ]
     },
     "metadata": {},
     "output_type": "display_data"
    },
    {
     "data": {
      "application/vnd.jupyter.widget-view+json": {
       "model_id": "f6466a28b9ac4d698bd80879e667b8d4",
       "version_major": 2,
       "version_minor": 0
      },
      "text/plain": [
       "[g19] make subgraphs:   0%|                                                           | 0/584 ?it/s "
      ]
     },
     "metadata": {},
     "output_type": "display_data"
    },
    {
     "data": {
      "application/vnd.jupyter.widget-view+json": {
       "model_id": "ae646f05a4914ec2b6400886ff935e1c",
       "version_major": 2,
       "version_minor": 0
      },
      "text/plain": [
       "[g20] build CSR:   0%|                                                                  | 0/1 ?it/s "
      ]
     },
     "metadata": {},
     "output_type": "display_data"
    },
    {
     "data": {
      "application/vnd.jupyter.widget-view+json": {
       "model_id": "1f80bcda57ed44d48a0c80967d5b002d",
       "version_major": 2,
       "version_minor": 0
      },
      "text/plain": [
       "[g20] scan:   0%|                                                                  | 0/822562 ?it/s "
      ]
     },
     "metadata": {},
     "output_type": "display_data"
    },
    {
     "data": {
      "application/vnd.jupyter.widget-view+json": {
       "model_id": "c0d526f6f6b84edc8fa5d003b2f5db72",
       "version_major": 2,
       "version_minor": 0
      },
      "text/plain": [
       "[g20] covered:   0%|                                                               | 0/822562 ?it/s "
      ]
     },
     "metadata": {},
     "output_type": "display_data"
    },
    {
     "data": {
      "application/vnd.jupyter.widget-view+json": {
       "model_id": "88f384d4c4cf41f88043e2dd06aa6b68",
       "version_major": 2,
       "version_minor": 0
      },
      "text/plain": [
       "[cache] save patches:   0%|                                                           | 0/422 ?it/s "
      ]
     },
     "metadata": {},
     "output_type": "display_data"
    },
    {
     "data": {
      "application/vnd.jupyter.widget-view+json": {
       "model_id": "62608960e51f4504bd07406dda1ad85c",
       "version_major": 2,
       "version_minor": 0
      },
      "text/plain": [
       "[g20] make subgraphs:   0%|                                                           | 0/422 ?it/s "
      ]
     },
     "metadata": {},
     "output_type": "display_data"
    },
    {
     "data": {
      "application/vnd.jupyter.widget-view+json": {
       "model_id": "ef37d8ecccaf4564a1606f06b0c86e1b",
       "version_major": 2,
       "version_minor": 0
      },
      "text/plain": [
       "[g21] build CSR:   0%|                                                                  | 0/1 ?it/s "
      ]
     },
     "metadata": {},
     "output_type": "display_data"
    },
    {
     "data": {
      "application/vnd.jupyter.widget-view+json": {
       "model_id": "80f0bd82a73e427588750ae87d31c4ad",
       "version_major": 2,
       "version_minor": 0
      },
      "text/plain": [
       "[g21] scan:   0%|                                                                 | 0/1412811 ?it/s "
      ]
     },
     "metadata": {},
     "output_type": "display_data"
    },
    {
     "data": {
      "application/vnd.jupyter.widget-view+json": {
       "model_id": "7b50559e89d648be970a2c8e961b2762",
       "version_major": 2,
       "version_minor": 0
      },
      "text/plain": [
       "[g21] covered:   0%|                                                              | 0/1412811 ?it/s "
      ]
     },
     "metadata": {},
     "output_type": "display_data"
    },
    {
     "data": {
      "application/vnd.jupyter.widget-view+json": {
       "model_id": "0126026f201c4aec9441649b58d96494",
       "version_major": 2,
       "version_minor": 0
      },
      "text/plain": [
       "[cache] save patches:   0%|                                                           | 0/725 ?it/s "
      ]
     },
     "metadata": {},
     "output_type": "display_data"
    },
    {
     "data": {
      "application/vnd.jupyter.widget-view+json": {
       "model_id": "85026ff5438d4c68b637ef7867dab668",
       "version_major": 2,
       "version_minor": 0
      },
      "text/plain": [
       "[g21] make subgraphs:   0%|                                                           | 0/725 ?it/s "
      ]
     },
     "metadata": {},
     "output_type": "display_data"
    },
    {
     "data": {
      "application/vnd.jupyter.widget-view+json": {
       "model_id": "67b65f6642d3491b9a646956005c56df",
       "version_major": 2,
       "version_minor": 0
      },
      "text/plain": [
       "[g22] build CSR:   0%|                                                                  | 0/1 ?it/s "
      ]
     },
     "metadata": {},
     "output_type": "display_data"
    },
    {
     "data": {
      "application/vnd.jupyter.widget-view+json": {
       "model_id": "fec14175315a4fddb3c97f1b97e40acc",
       "version_major": 2,
       "version_minor": 0
      },
      "text/plain": [
       "[g22] scan:   0%|                                                                 | 0/1122501 ?it/s "
      ]
     },
     "metadata": {},
     "output_type": "display_data"
    },
    {
     "data": {
      "application/vnd.jupyter.widget-view+json": {
       "model_id": "e2d0a427dccf4bd69b3ec3a4635db866",
       "version_major": 2,
       "version_minor": 0
      },
      "text/plain": [
       "[g22] covered:   0%|                                                              | 0/1122501 ?it/s "
      ]
     },
     "metadata": {},
     "output_type": "display_data"
    },
    {
     "data": {
      "application/vnd.jupyter.widget-view+json": {
       "model_id": "0e5f214be6de4eacaa8a95de3c30de9e",
       "version_major": 2,
       "version_minor": 0
      },
      "text/plain": [
       "[cache] save patches:   0%|                                                           | 0/576 ?it/s "
      ]
     },
     "metadata": {},
     "output_type": "display_data"
    },
    {
     "data": {
      "application/vnd.jupyter.widget-view+json": {
       "model_id": "4eb04d2043c24be284281a7937f5c859",
       "version_major": 2,
       "version_minor": 0
      },
      "text/plain": [
       "[g22] make subgraphs:   0%|                                                           | 0/576 ?it/s "
      ]
     },
     "metadata": {},
     "output_type": "display_data"
    },
    {
     "data": {
      "application/vnd.jupyter.widget-view+json": {
       "model_id": "313dd286eff1468faa581f1c6777555d",
       "version_major": 2,
       "version_minor": 0
      },
      "text/plain": [
       "[g23] build CSR:   0%|                                                                  | 0/1 ?it/s "
      ]
     },
     "metadata": {},
     "output_type": "display_data"
    },
    {
     "data": {
      "application/vnd.jupyter.widget-view+json": {
       "model_id": "f4c5e0f47d554fbca0d3b7b366b456a8",
       "version_major": 2,
       "version_minor": 0
      },
      "text/plain": [
       "[g23] scan:   0%|                                                                  | 0/976510 ?it/s "
      ]
     },
     "metadata": {},
     "output_type": "display_data"
    },
    {
     "data": {
      "application/vnd.jupyter.widget-view+json": {
       "model_id": "c30f16576a56408e8f3bf863d1ebfcd2",
       "version_major": 2,
       "version_minor": 0
      },
      "text/plain": [
       "[g23] covered:   0%|                                                               | 0/976510 ?it/s "
      ]
     },
     "metadata": {},
     "output_type": "display_data"
    },
    {
     "data": {
      "application/vnd.jupyter.widget-view+json": {
       "model_id": "e8dd864b51434bb9b35a9193f53390ef",
       "version_major": 2,
       "version_minor": 0
      },
      "text/plain": [
       "[cache] save patches:   0%|                                                           | 0/502 ?it/s "
      ]
     },
     "metadata": {},
     "output_type": "display_data"
    },
    {
     "data": {
      "application/vnd.jupyter.widget-view+json": {
       "model_id": "ca98ee6f1b094c80998a9d423e1b4f66",
       "version_major": 2,
       "version_minor": 0
      },
      "text/plain": [
       "[g23] make subgraphs:   0%|                                                           | 0/502 ?it/s "
      ]
     },
     "metadata": {},
     "output_type": "display_data"
    },
    {
     "data": {
      "application/vnd.jupyter.widget-view+json": {
       "model_id": "2658f6ff98dd4ef39548000fe3ebb735",
       "version_major": 2,
       "version_minor": 0
      },
      "text/plain": [
       "[g24] build CSR:   0%|                                                                  | 0/1 ?it/s "
      ]
     },
     "metadata": {},
     "output_type": "display_data"
    },
    {
     "data": {
      "application/vnd.jupyter.widget-view+json": {
       "model_id": "37593cba886e4bf9be3257d1d4f4ccd3",
       "version_major": 2,
       "version_minor": 0
      },
      "text/plain": [
       "[g24] scan:   0%|                                                                  | 0/932468 ?it/s "
      ]
     },
     "metadata": {},
     "output_type": "display_data"
    },
    {
     "data": {
      "application/vnd.jupyter.widget-view+json": {
       "model_id": "059cab36182f46eeaf1b07691b22ab51",
       "version_major": 2,
       "version_minor": 0
      },
      "text/plain": [
       "[g24] covered:   0%|                                                               | 0/932468 ?it/s "
      ]
     },
     "metadata": {},
     "output_type": "display_data"
    },
    {
     "data": {
      "application/vnd.jupyter.widget-view+json": {
       "model_id": "ffe29e3feeb946cf9746eb3e66af5834",
       "version_major": 2,
       "version_minor": 0
      },
      "text/plain": [
       "[cache] save patches:   0%|                                                           | 0/479 ?it/s "
      ]
     },
     "metadata": {},
     "output_type": "display_data"
    },
    {
     "data": {
      "application/vnd.jupyter.widget-view+json": {
       "model_id": "5dceea2f23da469d9b38c366d90ec21d",
       "version_major": 2,
       "version_minor": 0
      },
      "text/plain": [
       "[g24] make subgraphs:   0%|                                                           | 0/479 ?it/s "
      ]
     },
     "metadata": {},
     "output_type": "display_data"
    },
    {
     "data": {
      "application/vnd.jupyter.widget-view+json": {
       "model_id": "0b2f25028e50440e8ecf2578ce0e23cf",
       "version_major": 2,
       "version_minor": 0
      },
      "text/plain": [
       "[g25] build CSR:   0%|                                                                  | 0/1 ?it/s "
      ]
     },
     "metadata": {},
     "output_type": "display_data"
    },
    {
     "data": {
      "application/vnd.jupyter.widget-view+json": {
       "model_id": "bd4d9c63b5524cda8b4b5e772118d690",
       "version_major": 2,
       "version_minor": 0
      },
      "text/plain": [
       "[g25] scan:   0%|                                                                 | 0/1287151 ?it/s "
      ]
     },
     "metadata": {},
     "output_type": "display_data"
    },
    {
     "data": {
      "application/vnd.jupyter.widget-view+json": {
       "model_id": "32e3f54df252449e8de391a16cd87bb5",
       "version_major": 2,
       "version_minor": 0
      },
      "text/plain": [
       "[g25] covered:   0%|                                                              | 0/1287151 ?it/s "
      ]
     },
     "metadata": {},
     "output_type": "display_data"
    },
    {
     "data": {
      "application/vnd.jupyter.widget-view+json": {
       "model_id": "0b08f6f27643475b8c21017f5682358b",
       "version_major": 2,
       "version_minor": 0
      },
      "text/plain": [
       "[cache] save patches:   0%|                                                           | 0/661 ?it/s "
      ]
     },
     "metadata": {},
     "output_type": "display_data"
    },
    {
     "data": {
      "application/vnd.jupyter.widget-view+json": {
       "model_id": "147f720be3cf433992235ca74e1dfcd2",
       "version_major": 2,
       "version_minor": 0
      },
      "text/plain": [
       "[g25] make subgraphs:   0%|                                                           | 0/661 ?it/s "
      ]
     },
     "metadata": {},
     "output_type": "display_data"
    },
    {
     "data": {
      "application/vnd.jupyter.widget-view+json": {
       "model_id": "3ec8e984487c43b5bd2410a93199570e",
       "version_major": 2,
       "version_minor": 0
      },
      "text/plain": [
       "[g26] build CSR:   0%|                                                                  | 0/1 ?it/s "
      ]
     },
     "metadata": {},
     "output_type": "display_data"
    },
    {
     "data": {
      "application/vnd.jupyter.widget-view+json": {
       "model_id": "ccbb8b71f4ab4fb594ba4384aa595857",
       "version_major": 2,
       "version_minor": 0
      },
      "text/plain": [
       "[g26] scan:   0%|                                                                  | 0/825478 ?it/s "
      ]
     },
     "metadata": {},
     "output_type": "display_data"
    },
    {
     "data": {
      "application/vnd.jupyter.widget-view+json": {
       "model_id": "42ebf74435bc4ff1a16d096d7ae232fa",
       "version_major": 2,
       "version_minor": 0
      },
      "text/plain": [
       "[g26] covered:   0%|                                                               | 0/825478 ?it/s "
      ]
     },
     "metadata": {},
     "output_type": "display_data"
    },
    {
     "data": {
      "application/vnd.jupyter.widget-view+json": {
       "model_id": "2089878aca554158a7d16375136fd81f",
       "version_major": 2,
       "version_minor": 0
      },
      "text/plain": [
       "[cache] save patches:   0%|                                                           | 0/424 ?it/s "
      ]
     },
     "metadata": {},
     "output_type": "display_data"
    },
    {
     "data": {
      "application/vnd.jupyter.widget-view+json": {
       "model_id": "9661e9eeeb5a43998664318da14944c7",
       "version_major": 2,
       "version_minor": 0
      },
      "text/plain": [
       "[g26] make subgraphs:   0%|                                                           | 0/424 ?it/s "
      ]
     },
     "metadata": {},
     "output_type": "display_data"
    },
    {
     "data": {
      "application/vnd.jupyter.widget-view+json": {
       "model_id": "3336c6b62f5f4fdaaa1adfb56fd427d1",
       "version_major": 2,
       "version_minor": 0
      },
      "text/plain": [
       "[g27] build CSR:   0%|                                                                  | 0/1 ?it/s "
      ]
     },
     "metadata": {},
     "output_type": "display_data"
    },
    {
     "data": {
      "application/vnd.jupyter.widget-view+json": {
       "model_id": "355feabcfdbb4a87b3b3e67d9b09930f",
       "version_major": 2,
       "version_minor": 0
      },
      "text/plain": [
       "[g27] scan:   0%|                                                                  | 0/912689 ?it/s "
      ]
     },
     "metadata": {},
     "output_type": "display_data"
    },
    {
     "data": {
      "application/vnd.jupyter.widget-view+json": {
       "model_id": "d616506b32d049eca160b01b7ca04f68",
       "version_major": 2,
       "version_minor": 0
      },
      "text/plain": [
       "[g27] covered:   0%|                                                               | 0/912689 ?it/s "
      ]
     },
     "metadata": {},
     "output_type": "display_data"
    },
    {
     "data": {
      "application/vnd.jupyter.widget-view+json": {
       "model_id": "0e6d2c95f6804947bb131ae5a8014520",
       "version_major": 2,
       "version_minor": 0
      },
      "text/plain": [
       "[cache] save patches:   0%|                                                           | 0/469 ?it/s "
      ]
     },
     "metadata": {},
     "output_type": "display_data"
    },
    {
     "data": {
      "application/vnd.jupyter.widget-view+json": {
       "model_id": "95e64c51aff74fa2b8c9da99e5869abc",
       "version_major": 2,
       "version_minor": 0
      },
      "text/plain": [
       "[g27] make subgraphs:   0%|                                                           | 0/469 ?it/s "
      ]
     },
     "metadata": {},
     "output_type": "display_data"
    },
    {
     "data": {
      "application/vnd.jupyter.widget-view+json": {
       "model_id": "922a80c94ba84f9b839754f4e26d837e",
       "version_major": 2,
       "version_minor": 0
      },
      "text/plain": [
       "[g28] build CSR:   0%|                                                                  | 0/1 ?it/s "
      ]
     },
     "metadata": {},
     "output_type": "display_data"
    },
    {
     "data": {
      "application/vnd.jupyter.widget-view+json": {
       "model_id": "2397148c7fdc436e942d3065eadf729c",
       "version_major": 2,
       "version_minor": 0
      },
      "text/plain": [
       "[g28] scan:   0%|                                                                 | 0/1188793 ?it/s "
      ]
     },
     "metadata": {},
     "output_type": "display_data"
    },
    {
     "data": {
      "application/vnd.jupyter.widget-view+json": {
       "model_id": "ca612e8b9c754698a26ae76c9dcf1324",
       "version_major": 2,
       "version_minor": 0
      },
      "text/plain": [
       "[g28] covered:   0%|                                                              | 0/1188793 ?it/s "
      ]
     },
     "metadata": {},
     "output_type": "display_data"
    },
    {
     "data": {
      "application/vnd.jupyter.widget-view+json": {
       "model_id": "82f9ed732ffe430f846ac4bf700d942c",
       "version_major": 2,
       "version_minor": 0
      },
      "text/plain": [
       "[cache] save patches:   0%|                                                           | 0/610 ?it/s "
      ]
     },
     "metadata": {},
     "output_type": "display_data"
    },
    {
     "data": {
      "application/vnd.jupyter.widget-view+json": {
       "model_id": "e37a9de4841b450da9fc1bcefc499d67",
       "version_major": 2,
       "version_minor": 0
      },
      "text/plain": [
       "[g28] make subgraphs:   0%|                                                           | 0/610 ?it/s "
      ]
     },
     "metadata": {},
     "output_type": "display_data"
    },
    {
     "data": {
      "application/vnd.jupyter.widget-view+json": {
       "model_id": "9cdd1beadb0f4ce38e4b3a540d77899c",
       "version_major": 2,
       "version_minor": 0
      },
      "text/plain": [
       "[g29] build CSR:   0%|                                                                  | 0/1 ?it/s "
      ]
     },
     "metadata": {},
     "output_type": "display_data"
    },
    {
     "data": {
      "application/vnd.jupyter.widget-view+json": {
       "model_id": "786228a80baf4c929ed79c6978209d84",
       "version_major": 2,
       "version_minor": 0
      },
      "text/plain": [
       "[g29] scan:   0%|                                                                 | 0/1284274 ?it/s "
      ]
     },
     "metadata": {},
     "output_type": "display_data"
    },
    {
     "data": {
      "application/vnd.jupyter.widget-view+json": {
       "model_id": "da894ca6b8ce4d27979e18e82914f84c",
       "version_major": 2,
       "version_minor": 0
      },
      "text/plain": [
       "[g29] covered:   0%|                                                              | 0/1284274 ?it/s "
      ]
     },
     "metadata": {},
     "output_type": "display_data"
    },
    {
     "data": {
      "application/vnd.jupyter.widget-view+json": {
       "model_id": "1db9a04fa59a4774a674894917a6d3d4",
       "version_major": 2,
       "version_minor": 0
      },
      "text/plain": [
       "[cache] save patches:   0%|                                                           | 0/659 ?it/s "
      ]
     },
     "metadata": {},
     "output_type": "display_data"
    },
    {
     "data": {
      "application/vnd.jupyter.widget-view+json": {
       "model_id": "c074b58d4d7546708e42f102c11a6dae",
       "version_major": 2,
       "version_minor": 0
      },
      "text/plain": [
       "[g29] make subgraphs:   0%|                                                           | 0/659 ?it/s "
      ]
     },
     "metadata": {},
     "output_type": "display_data"
    },
    {
     "data": {
      "application/vnd.jupyter.widget-view+json": {
       "model_id": "31174763a7894db7b740786ba9531f6a",
       "version_major": 2,
       "version_minor": 0
      },
      "text/plain": [
       "[g30] build CSR:   0%|                                                                  | 0/1 ?it/s "
      ]
     },
     "metadata": {},
     "output_type": "display_data"
    },
    {
     "data": {
      "application/vnd.jupyter.widget-view+json": {
       "model_id": "e9001d5346e74826a3b52bd9f88f4706",
       "version_major": 2,
       "version_minor": 0
      },
      "text/plain": [
       "[g30] scan:   0%|                                                                  | 0/844269 ?it/s "
      ]
     },
     "metadata": {},
     "output_type": "display_data"
    },
    {
     "data": {
      "application/vnd.jupyter.widget-view+json": {
       "model_id": "d01125af22e44147ae8cf50cf0a25250",
       "version_major": 2,
       "version_minor": 0
      },
      "text/plain": [
       "[g30] covered:   0%|                                                               | 0/844269 ?it/s "
      ]
     },
     "metadata": {},
     "output_type": "display_data"
    },
    {
     "data": {
      "application/vnd.jupyter.widget-view+json": {
       "model_id": "7cc91541928c44f58b06653fd09abda4",
       "version_major": 2,
       "version_minor": 0
      },
      "text/plain": [
       "[cache] save patches:   0%|                                                           | 0/433 ?it/s "
      ]
     },
     "metadata": {},
     "output_type": "display_data"
    },
    {
     "data": {
      "application/vnd.jupyter.widget-view+json": {
       "model_id": "d300aba9a9f84211b4a99896915ff90d",
       "version_major": 2,
       "version_minor": 0
      },
      "text/plain": [
       "[g30] make subgraphs:   0%|                                                           | 0/433 ?it/s "
      ]
     },
     "metadata": {},
     "output_type": "display_data"
    },
    {
     "data": {
      "application/vnd.jupyter.widget-view+json": {
       "model_id": "aba1b25f34ac4eaf9fe16f99f781f106",
       "version_major": 2,
       "version_minor": 0
      },
      "text/plain": [
       "[g31] build CSR:   0%|                                                                  | 0/1 ?it/s "
      ]
     },
     "metadata": {},
     "output_type": "display_data"
    },
    {
     "data": {
      "application/vnd.jupyter.widget-view+json": {
       "model_id": "1442b10fa9454e0887d58b3291ab0e7f",
       "version_major": 2,
       "version_minor": 0
      },
      "text/plain": [
       "[g31] scan:   0%|                                                                 | 0/1113517 ?it/s "
      ]
     },
     "metadata": {},
     "output_type": "display_data"
    },
    {
     "data": {
      "application/vnd.jupyter.widget-view+json": {
       "model_id": "6804aca55c7a4662b3dfb3b9f32ce6e4",
       "version_major": 2,
       "version_minor": 0
      },
      "text/plain": [
       "[g31] covered:   0%|                                                              | 0/1113517 ?it/s "
      ]
     },
     "metadata": {},
     "output_type": "display_data"
    },
    {
     "data": {
      "application/vnd.jupyter.widget-view+json": {
       "model_id": "89f20cec755249d4828414f606de76a3",
       "version_major": 2,
       "version_minor": 0
      },
      "text/plain": [
       "[cache] save patches:   0%|                                                           | 0/571 ?it/s "
      ]
     },
     "metadata": {},
     "output_type": "display_data"
    },
    {
     "data": {
      "application/vnd.jupyter.widget-view+json": {
       "model_id": "4aabeb1fadad4fb284c217a49d8c736c",
       "version_major": 2,
       "version_minor": 0
      },
      "text/plain": [
       "[g31] make subgraphs:   0%|                                                           | 0/571 ?it/s "
      ]
     },
     "metadata": {},
     "output_type": "display_data"
    },
    {
     "data": {
      "application/vnd.jupyter.widget-view+json": {
       "model_id": "6f39e491b354411fbaa46fb858a9edd1",
       "version_major": 2,
       "version_minor": 0
      },
      "text/plain": [
       "[g32] build CSR:   0%|                                                                  | 0/1 ?it/s "
      ]
     },
     "metadata": {},
     "output_type": "display_data"
    },
    {
     "data": {
      "application/vnd.jupyter.widget-view+json": {
       "model_id": "2e0769d6f31740569861794cc589a2a4",
       "version_major": 2,
       "version_minor": 0
      },
      "text/plain": [
       "[g32] scan:   0%|                                                                 | 0/1408647 ?it/s "
      ]
     },
     "metadata": {},
     "output_type": "display_data"
    },
    {
     "data": {
      "application/vnd.jupyter.widget-view+json": {
       "model_id": "5ed64fbb038f474c966ae717635f4b78",
       "version_major": 2,
       "version_minor": 0
      },
      "text/plain": [
       "[g32] covered:   0%|                                                              | 0/1408647 ?it/s "
      ]
     },
     "metadata": {},
     "output_type": "display_data"
    },
    {
     "data": {
      "application/vnd.jupyter.widget-view+json": {
       "model_id": "59137e715b28475dbede1de3bf739742",
       "version_major": 2,
       "version_minor": 0
      },
      "text/plain": [
       "[cache] save patches:   0%|                                                           | 0/723 ?it/s "
      ]
     },
     "metadata": {},
     "output_type": "display_data"
    },
    {
     "data": {
      "application/vnd.jupyter.widget-view+json": {
       "model_id": "a3a01e11e7b148d18f36c52370579e3c",
       "version_major": 2,
       "version_minor": 0
      },
      "text/plain": [
       "[g32] make subgraphs:   0%|                                                           | 0/723 ?it/s "
      ]
     },
     "metadata": {},
     "output_type": "display_data"
    },
    {
     "data": {
      "application/vnd.jupyter.widget-view+json": {
       "model_id": "6a89d22eb28740d48afa8caeecc94e0e",
       "version_major": 2,
       "version_minor": 0
      },
      "text/plain": [
       "[g33] build CSR:   0%|                                                                  | 0/1 ?it/s "
      ]
     },
     "metadata": {},
     "output_type": "display_data"
    },
    {
     "data": {
      "application/vnd.jupyter.widget-view+json": {
       "model_id": "7237db73e7c749a1ab100bc528a16e13",
       "version_major": 2,
       "version_minor": 0
      },
      "text/plain": [
       "[g33] scan:   0%|                                                                 | 0/1204436 ?it/s "
      ]
     },
     "metadata": {},
     "output_type": "display_data"
    },
    {
     "data": {
      "application/vnd.jupyter.widget-view+json": {
       "model_id": "2ae2babe8380409ab3cb25a061d2e2fc",
       "version_major": 2,
       "version_minor": 0
      },
      "text/plain": [
       "[g33] covered:   0%|                                                              | 0/1204436 ?it/s "
      ]
     },
     "metadata": {},
     "output_type": "display_data"
    },
    {
     "data": {
      "application/vnd.jupyter.widget-view+json": {
       "model_id": "5de3d5eef9094d6484ebf1699cc40eed",
       "version_major": 2,
       "version_minor": 0
      },
      "text/plain": [
       "[cache] save patches:   0%|                                                           | 0/619 ?it/s "
      ]
     },
     "metadata": {},
     "output_type": "display_data"
    },
    {
     "data": {
      "application/vnd.jupyter.widget-view+json": {
       "model_id": "7b507e24a3954fea9ea220cef0166df1",
       "version_major": 2,
       "version_minor": 0
      },
      "text/plain": [
       "[g33] make subgraphs:   0%|                                                           | 0/619 ?it/s "
      ]
     },
     "metadata": {},
     "output_type": "display_data"
    },
    {
     "data": {
      "application/vnd.jupyter.widget-view+json": {
       "model_id": "1016d86f3625414da4e2c0189d8e2930",
       "version_major": 2,
       "version_minor": 0
      },
      "text/plain": [
       "[g34] build CSR:   0%|                                                                  | 0/1 ?it/s "
      ]
     },
     "metadata": {},
     "output_type": "display_data"
    },
    {
     "data": {
      "application/vnd.jupyter.widget-view+json": {
       "model_id": "f7add31ba63e4a539dd16e0be0a2be2d",
       "version_major": 2,
       "version_minor": 0
      },
      "text/plain": [
       "[g34] scan:   0%|                                                                 | 0/1010894 ?it/s "
      ]
     },
     "metadata": {},
     "output_type": "display_data"
    },
    {
     "data": {
      "application/vnd.jupyter.widget-view+json": {
       "model_id": "44e2a28a71f24a7bba08818cb44a6435",
       "version_major": 2,
       "version_minor": 0
      },
      "text/plain": [
       "[g34] covered:   0%|                                                              | 0/1010894 ?it/s "
      ]
     },
     "metadata": {},
     "output_type": "display_data"
    },
    {
     "data": {
      "application/vnd.jupyter.widget-view+json": {
       "model_id": "798ea878dd61464e9e67dd26b6153cf2",
       "version_major": 2,
       "version_minor": 0
      },
      "text/plain": [
       "[cache] save patches:   0%|                                                           | 0/520 ?it/s "
      ]
     },
     "metadata": {},
     "output_type": "display_data"
    },
    {
     "data": {
      "application/vnd.jupyter.widget-view+json": {
       "model_id": "7d0a6f13e0b14f9bb37a0912cdbf1061",
       "version_major": 2,
       "version_minor": 0
      },
      "text/plain": [
       "[g34] make subgraphs:   0%|                                                           | 0/520 ?it/s "
      ]
     },
     "metadata": {},
     "output_type": "display_data"
    },
    {
     "data": {
      "application/vnd.jupyter.widget-view+json": {
       "model_id": "441acb1dfbfc4a0a8dae9ffe5e8215b0",
       "version_major": 2,
       "version_minor": 0
      },
      "text/plain": [
       "[g35] build CSR:   0%|                                                                  | 0/1 ?it/s "
      ]
     },
     "metadata": {},
     "output_type": "display_data"
    },
    {
     "data": {
      "application/vnd.jupyter.widget-view+json": {
       "model_id": "212a45970ca344b6ad4b45f7f5f6ddb7",
       "version_major": 2,
       "version_minor": 0
      },
      "text/plain": [
       "[g35] scan:   0%|                                                                 | 0/1328371 ?it/s "
      ]
     },
     "metadata": {},
     "output_type": "display_data"
    },
    {
     "data": {
      "application/vnd.jupyter.widget-view+json": {
       "model_id": "742b54312fb24e3a9345e1b7b19f43ea",
       "version_major": 2,
       "version_minor": 0
      },
      "text/plain": [
       "[g35] covered:   0%|                                                              | 0/1328371 ?it/s "
      ]
     },
     "metadata": {},
     "output_type": "display_data"
    },
    {
     "data": {
      "application/vnd.jupyter.widget-view+json": {
       "model_id": "d4f008f87be54559b17b8011830520c9",
       "version_major": 2,
       "version_minor": 0
      },
      "text/plain": [
       "[cache] save patches:   0%|                                                           | 0/682 ?it/s "
      ]
     },
     "metadata": {},
     "output_type": "display_data"
    },
    {
     "data": {
      "application/vnd.jupyter.widget-view+json": {
       "model_id": "27907251b5c342e3bd9a637b5bf8db9f",
       "version_major": 2,
       "version_minor": 0
      },
      "text/plain": [
       "[g35] make subgraphs:   0%|                                                           | 0/682 ?it/s "
      ]
     },
     "metadata": {},
     "output_type": "display_data"
    },
    {
     "data": {
      "application/vnd.jupyter.widget-view+json": {
       "model_id": "c5846f5e174044f1a22734d8dbb45adc",
       "version_major": 2,
       "version_minor": 0
      },
      "text/plain": [
       "[g36] build CSR:   0%|                                                                  | 0/1 ?it/s "
      ]
     },
     "metadata": {},
     "output_type": "display_data"
    },
    {
     "data": {
      "application/vnd.jupyter.widget-view+json": {
       "model_id": "5ea538afff2e4e559749e7e8f56ad5f5",
       "version_major": 2,
       "version_minor": 0
      },
      "text/plain": [
       "[g36] scan:   0%|                                                                 | 0/1125390 ?it/s "
      ]
     },
     "metadata": {},
     "output_type": "display_data"
    },
    {
     "data": {
      "application/vnd.jupyter.widget-view+json": {
       "model_id": "6b2380beac364717a72654d6c603b704",
       "version_major": 2,
       "version_minor": 0
      },
      "text/plain": [
       "[g36] covered:   0%|                                                              | 0/1125390 ?it/s "
      ]
     },
     "metadata": {},
     "output_type": "display_data"
    },
    {
     "data": {
      "application/vnd.jupyter.widget-view+json": {
       "model_id": "c8e6f443dcbc41e3b9f8e9847c477ca4",
       "version_major": 2,
       "version_minor": 0
      },
      "text/plain": [
       "[cache] save patches:   0%|                                                           | 0/578 ?it/s "
      ]
     },
     "metadata": {},
     "output_type": "display_data"
    },
    {
     "data": {
      "application/vnd.jupyter.widget-view+json": {
       "model_id": "9e1c3fbd4d5445b487bdc0141fbb485b",
       "version_major": 2,
       "version_minor": 0
      },
      "text/plain": [
       "[g36] make subgraphs:   0%|                                                           | 0/578 ?it/s "
      ]
     },
     "metadata": {},
     "output_type": "display_data"
    },
    {
     "data": {
      "application/vnd.jupyter.widget-view+json": {
       "model_id": "978acb61494b4871ab87e88ab888c171",
       "version_major": 2,
       "version_minor": 0
      },
      "text/plain": [
       "[g37] build CSR:   0%|                                                                  | 0/1 ?it/s "
      ]
     },
     "metadata": {},
     "output_type": "display_data"
    },
    {
     "data": {
      "application/vnd.jupyter.widget-view+json": {
       "model_id": "5c15f70d9bdc430eac6c596cb06e4749",
       "version_major": 2,
       "version_minor": 0
      },
      "text/plain": [
       "[g37] scan:   0%|                                                                 | 0/1026706 ?it/s "
      ]
     },
     "metadata": {},
     "output_type": "display_data"
    },
    {
     "data": {
      "application/vnd.jupyter.widget-view+json": {
       "model_id": "eb05030e345e49b1ab31e125dcb958c9",
       "version_major": 2,
       "version_minor": 0
      },
      "text/plain": [
       "[g37] covered:   0%|                                                              | 0/1026706 ?it/s "
      ]
     },
     "metadata": {},
     "output_type": "display_data"
    },
    {
     "data": {
      "application/vnd.jupyter.widget-view+json": {
       "model_id": "0f166fc1cd694fc69c953ccfd36e9c5e",
       "version_major": 2,
       "version_minor": 0
      },
      "text/plain": [
       "[cache] save patches:   0%|                                                           | 0/527 ?it/s "
      ]
     },
     "metadata": {},
     "output_type": "display_data"
    },
    {
     "data": {
      "application/vnd.jupyter.widget-view+json": {
       "model_id": "c14dfce945e84b4581a19707af7d01aa",
       "version_major": 2,
       "version_minor": 0
      },
      "text/plain": [
       "[g37] make subgraphs:   0%|                                                           | 0/527 ?it/s "
      ]
     },
     "metadata": {},
     "output_type": "display_data"
    },
    {
     "data": {
      "application/vnd.jupyter.widget-view+json": {
       "model_id": "e127fb8fda784447b9af2623ffb321c2",
       "version_major": 2,
       "version_minor": 0
      },
      "text/plain": [
       "[g38] build CSR:   0%|                                                                  | 0/1 ?it/s "
      ]
     },
     "metadata": {},
     "output_type": "display_data"
    },
    {
     "data": {
      "application/vnd.jupyter.widget-view+json": {
       "model_id": "95ceb4ad91d84aed9b3930659366bc48",
       "version_major": 2,
       "version_minor": 0
      },
      "text/plain": [
       "[g38] scan:   0%|                                                                 | 0/1063676 ?it/s "
      ]
     },
     "metadata": {},
     "output_type": "display_data"
    },
    {
     "data": {
      "application/vnd.jupyter.widget-view+json": {
       "model_id": "60f0e42b2fae49c2a2af5f314b8c2937",
       "version_major": 2,
       "version_minor": 0
      },
      "text/plain": [
       "[g38] covered:   0%|                                                              | 0/1063676 ?it/s "
      ]
     },
     "metadata": {},
     "output_type": "display_data"
    },
    {
     "data": {
      "application/vnd.jupyter.widget-view+json": {
       "model_id": "7f9558226a77452e85647fb559b87a32",
       "version_major": 2,
       "version_minor": 0
      },
      "text/plain": [
       "[cache] save patches:   0%|                                                           | 0/546 ?it/s "
      ]
     },
     "metadata": {},
     "output_type": "display_data"
    },
    {
     "data": {
      "application/vnd.jupyter.widget-view+json": {
       "model_id": "df32f2e119384e3aad4d03669593bb6e",
       "version_major": 2,
       "version_minor": 0
      },
      "text/plain": [
       "[g38] make subgraphs:   0%|                                                           | 0/546 ?it/s "
      ]
     },
     "metadata": {},
     "output_type": "display_data"
    },
    {
     "data": {
      "application/vnd.jupyter.widget-view+json": {
       "model_id": "2573a1a06e4f4f1da9f2c394493b7e8c",
       "version_major": 2,
       "version_minor": 0
      },
      "text/plain": [
       "[g39] build CSR:   0%|                                                                  | 0/1 ?it/s "
      ]
     },
     "metadata": {},
     "output_type": "display_data"
    },
    {
     "data": {
      "application/vnd.jupyter.widget-view+json": {
       "model_id": "daa97f4f3a9a41f5a6d515ead5a72e14",
       "version_major": 2,
       "version_minor": 0
      },
      "text/plain": [
       "[g39] scan:   0%|                                                                 | 0/1023210 ?it/s "
      ]
     },
     "metadata": {},
     "output_type": "display_data"
    },
    {
     "data": {
      "application/vnd.jupyter.widget-view+json": {
       "model_id": "7493d1c453a74bea84452359469351fd",
       "version_major": 2,
       "version_minor": 0
      },
      "text/plain": [
       "[g39] covered:   0%|                                                              | 0/1023210 ?it/s "
      ]
     },
     "metadata": {},
     "output_type": "display_data"
    },
    {
     "data": {
      "application/vnd.jupyter.widget-view+json": {
       "model_id": "b0adafc0f3154ab39dce2c06f72b84db",
       "version_major": 2,
       "version_minor": 0
      },
      "text/plain": [
       "[cache] save patches:   0%|                                                           | 0/525 ?it/s "
      ]
     },
     "metadata": {},
     "output_type": "display_data"
    },
    {
     "data": {
      "application/vnd.jupyter.widget-view+json": {
       "model_id": "383c6914af404d3898356843995b493e",
       "version_major": 2,
       "version_minor": 0
      },
      "text/plain": [
       "[g39] make subgraphs:   0%|                                                           | 0/525 ?it/s "
      ]
     },
     "metadata": {},
     "output_type": "display_data"
    },
    {
     "data": {
      "application/vnd.jupyter.widget-view+json": {
       "model_id": "88022fc3caeb4d038045013ec543d5e8",
       "version_major": 2,
       "version_minor": 0
      },
      "text/plain": [
       "[g40] build CSR:   0%|                                                                  | 0/1 ?it/s "
      ]
     },
     "metadata": {},
     "output_type": "display_data"
    },
    {
     "data": {
      "application/vnd.jupyter.widget-view+json": {
       "model_id": "3d36988d33ef4e5f9269ebb6ca1f87ef",
       "version_major": 2,
       "version_minor": 0
      },
      "text/plain": [
       "[g40] scan:   0%|                                                                 | 0/1092106 ?it/s "
      ]
     },
     "metadata": {},
     "output_type": "display_data"
    },
    {
     "data": {
      "application/vnd.jupyter.widget-view+json": {
       "model_id": "32ac9700267d43d7a144b82e79151dcc",
       "version_major": 2,
       "version_minor": 0
      },
      "text/plain": [
       "[g40] covered:   0%|                                                              | 0/1092106 ?it/s "
      ]
     },
     "metadata": {},
     "output_type": "display_data"
    },
    {
     "data": {
      "application/vnd.jupyter.widget-view+json": {
       "model_id": "bb93e38dc73e4d20b349fbd87aafb359",
       "version_major": 2,
       "version_minor": 0
      },
      "text/plain": [
       "[cache] save patches:   0%|                                                           | 0/560 ?it/s "
      ]
     },
     "metadata": {},
     "output_type": "display_data"
    },
    {
     "data": {
      "application/vnd.jupyter.widget-view+json": {
       "model_id": "cbd3b19981e34c37b3c930f9461e9e9c",
       "version_major": 2,
       "version_minor": 0
      },
      "text/plain": [
       "[g40] make subgraphs:   0%|                                                           | 0/560 ?it/s "
      ]
     },
     "metadata": {},
     "output_type": "display_data"
    },
    {
     "data": {
      "application/vnd.jupyter.widget-view+json": {
       "model_id": "8a3644bb821848acb9d0f7226eaf4331",
       "version_major": 2,
       "version_minor": 0
      },
      "text/plain": [
       "[graphs]:   0%|                                                                        | 0/10 ?it/s "
      ]
     },
     "metadata": {},
     "output_type": "display_data"
    },
    {
     "data": {
      "application/vnd.jupyter.widget-view+json": {
       "model_id": "eb4ebcaa458b443789f7de70591cb356",
       "version_major": 2,
       "version_minor": 0
      },
      "text/plain": [
       "[g0] build CSR:   0%|                                                                   | 0/1 ?it/s "
      ]
     },
     "metadata": {},
     "output_type": "display_data"
    },
    {
     "data": {
      "application/vnd.jupyter.widget-view+json": {
       "model_id": "b076970b4d414900ada562a66d4738d4",
       "version_major": 2,
       "version_minor": 0
      },
      "text/plain": [
       "[g0] scan:   0%|                                                                  | 0/1452569 ?it/s "
      ]
     },
     "metadata": {},
     "output_type": "display_data"
    },
    {
     "data": {
      "application/vnd.jupyter.widget-view+json": {
       "model_id": "bb14030cebf349168bcc85a3382e84ee",
       "version_major": 2,
       "version_minor": 0
      },
      "text/plain": [
       "[g0] covered:   0%|                                                               | 0/1452569 ?it/s "
      ]
     },
     "metadata": {},
     "output_type": "display_data"
    }
   ],
   "source": [
    "train_loader, len_epoch = cluster_patch_loader_pure(\n",
    "    train_graphs, save_root=\"cache_50/train\",\n",
    "    min_nodes=3072, batch_size=60, num_workers=4,\n",
    "    k0=3, k_max=5, seeds_per_iter=1024,\n",
    "    early_cut_ratio=1.08, overlap_ratio=0.25, seed=42,\n",
    "    progress=True, return_list=True\n",
    ")\n",
    "\n",
    "val_loader, len_val  = cluster_patch_loader_pure(\n",
    "    val_graphs,\n",
    "    save_root=\"cache_50/val\",\n",
    "    min_nodes=3072, batch_size=60, num_workers=4,\n",
    "    k0=3, k_max=5, seeds_per_iter=1024,\n",
    "    early_cut_ratio=1.08, overlap_ratio=0.25, seed=42,\n",
    "    progress=True, return_list=True\n",
    ")\n",
    "\n",
    "\n",
    "print(\"len_epoch:\", len_epoch, \"len_val:\", len_val)\n"
   ]
  }
 ],
 "metadata": {
  "kernelspec": {
   "display_name": "jyk",
   "language": "python",
   "name": "python3"
  },
  "language_info": {
   "codemirror_mode": {
    "name": "ipython",
    "version": 3
   },
   "file_extension": ".py",
   "mimetype": "text/x-python",
   "name": "python",
   "nbconvert_exporter": "python",
   "pygments_lexer": "ipython3",
   "version": "3.10.18"
  }
 },
 "nbformat": 4,
 "nbformat_minor": 5
}
